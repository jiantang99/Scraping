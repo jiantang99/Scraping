{
 "cells": [
  {
   "cell_type": "code",
   "execution_count": 17,
   "id": "dbaaf506",
   "metadata": {},
   "outputs": [],
   "source": [
    "from bs4 import BeautifulSoup\n",
    "import urllib.request,sys,time\n",
    "import requests\n",
    "import pandas as pd\n",
    "import re\n",
    "import math\n",
    "import os\n",
    "from selenium import webdriver\n",
    "from selenium.webdriver.common.by import By\n",
    "from datetime import datetime"
   ]
  },
  {
   "cell_type": "markdown",
   "id": "dda03087",
   "metadata": {},
   "source": [
    "#### Go to page, reject cookies, enter search, click on 'Past year', get total results, loop through total pages"
   ]
  },
  {
   "cell_type": "code",
   "execution_count": 90,
   "id": "9d67c241",
   "metadata": {},
   "outputs": [
    {
     "ename": "NameError",
     "evalue": "name 'datetime' is not defined",
     "output_type": "error",
     "traceback": [
      "\u001b[1;31m---------------------------------------------------------------------------\u001b[0m",
      "\u001b[1;31mNameError\u001b[0m                                 Traceback (most recent call last)",
      "Cell \u001b[1;32mIn[90], line 34\u001b[0m\n\u001b[0;32m     19\u001b[0m dates \u001b[38;5;241m=\u001b[39m \u001b[38;5;28mlist\u001b[39m()\n\u001b[0;32m     21\u001b[0m monthDict \u001b[38;5;241m=\u001b[39m {\t\u001b[38;5;241m1\u001b[39m:\u001b[38;5;124m'\u001b[39m\u001b[38;5;124mJanauary\u001b[39m\u001b[38;5;124m'\u001b[39m,\n\u001b[0;32m     22\u001b[0m \t\t\u001b[38;5;241m2\u001b[39m:\u001b[38;5;124m'\u001b[39m\u001b[38;5;124mFebruary\u001b[39m\u001b[38;5;124m'\u001b[39m,\n\u001b[0;32m     23\u001b[0m \t\t\u001b[38;5;241m3\u001b[39m:\u001b[38;5;124m'\u001b[39m\u001b[38;5;124mMarch\u001b[39m\u001b[38;5;124m'\u001b[39m,\n\u001b[1;32m   (...)\u001b[0m\n\u001b[0;32m     31\u001b[0m \t\t\u001b[38;5;241m11\u001b[39m:\u001b[38;5;124m'\u001b[39m\u001b[38;5;124mNovember\u001b[39m\u001b[38;5;124m'\u001b[39m,\n\u001b[0;32m     32\u001b[0m \t\t\u001b[38;5;241m12\u001b[39m:\u001b[38;5;124m'\u001b[39m\u001b[38;5;124mDecember\u001b[39m\u001b[38;5;124m'\u001b[39m\t\t}\n\u001b[1;32m---> 34\u001b[0m month \u001b[38;5;241m=\u001b[39m monthDict[\u001b[43mdatetime\u001b[49m\u001b[38;5;241m.\u001b[39mnow()\u001b[38;5;241m.\u001b[39mmonth]\n\u001b[0;32m     35\u001b[0m year \u001b[38;5;241m=\u001b[39m \u001b[38;5;28mstr\u001b[39m(datetime\u001b[38;5;241m.\u001b[39mnow()\u001b[38;5;241m.\u001b[39myear)\n\u001b[0;32m     37\u001b[0m \u001b[38;5;28;01mfor\u001b[39;00m a \u001b[38;5;129;01min\u001b[39;00m allDates:\n",
      "\u001b[1;31mNameError\u001b[0m: name 'datetime' is not defined"
     ]
    }
   ],
   "source": [
    "driver = webdriver.Chrome()\n",
    "driver.get('https://www.ecb.europa.eu/pub/pubbydate/html/index.en.html')\n",
    "\n",
    "# Reject cookies\n",
    "button = driver.find_element(By.XPATH,\"//*[text()='I do not accept the use of cookies']\")\n",
    "button.click()\n",
    "driver.implicitly_wait(5)\n",
    "\n",
    "# Get HTML code\n",
    "html = driver.page_source\n",
    "\n",
    "soup = BeautifulSoup(html, 'html.parser')\n",
    "div_element = soup.find('div', class_='lazy-load loaded')\n",
    "allDates = div_element.find_all('div',class_='date') # All dates\n",
    "allTitleBlocks = div_element.find_all('dd') # All title blocks\n",
    "\n",
    "titles = list()\n",
    "links = list()\n",
    "dates = list()\n",
    "\n",
    "monthDict = {\t1:'Janauary',\n",
    "\t\t2:'February',\n",
    "\t\t3:'March',\n",
    "\t\t4:'April',\n",
    "\t\t5:'May',\n",
    "\t\t6:'June',\n",
    "\t\t7:'July',\n",
    "\t\t8:'August',\n",
    "\t\t9:'September',\n",
    "\t\t10:'October',\n",
    "\t\t11:'November',\n",
    "\t\t12:'December'\t\t}\n",
    "\n",
    "month = monthDict[datetime.now().month]\n",
    "year = str(datetime.now().year)\n",
    "\n",
    "for a in allDates:\n",
    "    if a.text.find(year) != -1 and a.text.find(month) != -1:\n",
    "        dates.append(a.text)                                  # All dates\n",
    "\n",
    "preLink = 'https://www.ecb.europa.eu'\n",
    "        \n",
    "for a in allTitleBlocks:\n",
    "    titleBlock = a.find('div',class_='title')\n",
    "    if titleBlock is not None:\n",
    "        titles.append(titleBlock.find('a', href=True).text)   # All titles\n",
    "        newLink = preLink + titleBlock.find('a', href=True)['href'] \n",
    "        links.append(newLink)                                 # All links\n",
    "        \n",
    "links = links[0:len(dates)]                                   # Slice list to get same length as dates\n",
    "titles = titles[0:len(dates)]                                 # Indexes of dates, links, and titles match, so simple slicing will work\n",
    "\n",
    "driver.quit()\n",
    "\n",
    "d = {'Title': titles, 'Link': links, 'Date': dates}\n",
    "df = pd.DataFrame(data=d)\n",
    "df.to_csv(r'C:\\Users\\65936\\\\OneDrive\\Desktop\\MAS\\\\ECB.csv')"
   ]
  },
  {
   "cell_type": "code",
   "execution_count": 89,
   "id": "b7cff978",
   "metadata": {},
   "outputs": [
    {
     "name": "stdout",
     "output_type": "stream",
     "text": [
      "['/pub/ire/focus/html/ecb.irebox202306_05~3fd09c5bc9.en.html', '/pub/ire/focus/html/ecb.irebox202306_04~f43eab6f30.en.html', '/pub/ire/focus/html/ecb.irebox202306_03~bc9d9d7ec8.en.html', '/pub/ire/focus/html/ecb.irebox202306_02~34a6efea84.en.html', '/pub/ire/focus/html/ecb.irebox202306_01~d3f9e5dbdf.en.html', '/pub/ire/article/html/ecb.ireart202306_03~0d41990c46.en.html', '/pub/ire/article/html/ecb.ireart202306_02~8c333b3f27.en.html', '/pub/ire/article/html/ecb.ireart202306_01~11d437be4d.en.html', '/pub/ire/html/ecb.ire202306~d334007ede.en.html', '/pub/pdf/ire/ecb.ire202306_annex~9d9ffbe4d3.en.pdf?57a6df5b74ee6bc8a3ec578d4c376422', '/press/pr/date/2023/html/ecb.pr230621~fb1c134626.en.html', '/pub/pdf/scpops/ecb.op317~4b572c363a.en.pdf?da4141d0940ba902ca389e9c72700975', '/pub/pdf/scpsps/ecb.sps44~b754672ed6.en.pdf?f95543725062c0aa88094d0f9a78615f', '/pub/pdf/scpwps/ecb.wp2826~cbbb571758.en.pdf?88c7d21a1aa1bd27d8ced0dff6ae917c', '/pub/targetar/html/ecb.targetar2022.en.html', '/pub/pdf/scpsps/ecb.sps43~291a29d8cc.en.pdf?6ce8959a39711e95f246af69f4cbd75e', '/pub/projections/html/ecb.projections202306_eurosystemstaff~6625228e9f.en.html', '/pub/pdf/annex/ecb.projections202306_eurosystemstaff_annex.en.xlsx?ab5c188a38b8dba86d26e40f63f10c1d', '/stats/ecb_surveys/safe/html/ecb.safe202306~58c0da48d6.en.html', '/stats/accesstofinancesofenterprises/pdf/questionnaire/ecb.safeq202306.en.pdf?67becfef432d86598d80c9a07276a40d', '/press/pr/date/2023/html/ecb.pr230607~7b025e4c73.en.html', '/pub/pdf/scpwps/ecb.wp2825~a17cb43e86.en.pdf?2661e81c0efb80150456835883bbfd6e', '/paym/intro/publications/html/ecb.t2sar2022.en.html', '/pub/pdf/other/Exchange_of_Letters_ECB_European_Parliament_central_banking230605~87aa8ed4a3.en.pdf?57a746d72ed5ab3039635d08e708b824', '/pub/pdf/scpwps/ecb.wp2824~446692e8f3.en.pdf?8c96633541b8828d368c293f3b0906a2', '/pub/pdf/scpwps/ecb.wp2823~0a128abbd2.en.pdf?d0ddda1e1835f3bf93ece010927cc954', '/pub/financial-stability/fsr/focus/2023/html/ecb.fsrbox202305_07~64a379ad82.en.html']\n"
     ]
    }
   ],
   "source": []
  },
  {
   "cell_type": "code",
   "execution_count": null,
   "id": "0b2c1869",
   "metadata": {},
   "outputs": [],
   "source": []
  }
 ],
 "metadata": {
  "kernelspec": {
   "display_name": "Python 3 (ipykernel)",
   "language": "python",
   "name": "python3"
  },
  "language_info": {
   "codemirror_mode": {
    "name": "ipython",
    "version": 3
   },
   "file_extension": ".py",
   "mimetype": "text/x-python",
   "name": "python",
   "nbconvert_exporter": "python",
   "pygments_lexer": "ipython3",
   "version": "3.11.3"
  }
 },
 "nbformat": 4,
 "nbformat_minor": 5
}
