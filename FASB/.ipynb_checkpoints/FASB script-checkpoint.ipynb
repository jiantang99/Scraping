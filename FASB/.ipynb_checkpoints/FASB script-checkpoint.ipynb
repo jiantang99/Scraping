{
 "cells": [
  {
   "cell_type": "code",
   "execution_count": 2,
   "id": "7c1855ec",
   "metadata": {},
   "outputs": [],
   "source": [
    "from bs4 import BeautifulSoup\n",
    "import urllib.request,sys,time\n",
    "import requests\n",
    "import pandas as pd\n",
    "import re\n",
    "import math\n",
    "import os"
   ]
  },
  {
   "cell_type": "code",
   "execution_count": 31,
   "id": "1e419b75",
   "metadata": {},
   "outputs": [],
   "source": [
    "titles_list = list()\n",
    "links_list = list()\n",
    "dates_list = list()\n",
    "\n",
    "url = 'https://www.fasb.org/Page/PageContent?PageId=/news-media/inthenews.html'\n",
    "\n",
    "try:\n",
    "     page = requests.get(url) \n",
    "except Exception as e:    \n",
    "    print('Error with FASB link')\n",
    "        \n",
    "soup = BeautifulSoup(page.text, \"html.parser\")\n",
    "blocks = soup.find('div', class_='year year-2023')\n",
    "\n",
    "for a in blocks.find_all('a'):\n",
    "    titles_list.append(a.text)\n",
    "    links_list.append(a['href'])\n",
    "    \n",
    "pattern = r\"(January|February|March|April|May|June|July|August|September|October|November|December)\\s\\d{1,2},\\s\\d{4}\"\n",
    "    \n",
    "for b in blocks:\n",
    "    if re.search(pattern, b.text, re.MULTILINE) and len(b) > 5 and 'June' in b and '2023' in b:\n",
    "        dates_list.append(b)\n",
    "        \n",
    "for a in titles_list[0,len(dates_list)]:\n",
    "    titles.append(a)\n",
    "for b in links_list[0,len(dates_list)]:\n",
    "    links.append(a)\n",
    "for c in dates_list:\n",
    "    dates.append(c)\n"
   ]
  },
  {
   "cell_type": "code",
   "execution_count": 32,
   "id": "0e0c47cb",
   "metadata": {},
   "outputs": [
    {
     "name": "stdout",
     "output_type": "stream",
     "text": [
      "['\\nJune 27, 2023\\n', '\\nJune 16, 2023\\n', '\\nJune 9, 2023\\n', '\\nJune 8, 2023\\n']\n"
     ]
    }
   ],
   "source": [
    "print(dates_list)\n"
   ]
  },
  {
   "cell_type": "code",
   "execution_count": null,
   "id": "469f1716",
   "metadata": {},
   "outputs": [],
   "source": []
  }
 ],
 "metadata": {
  "kernelspec": {
   "display_name": "Python 3 (ipykernel)",
   "language": "python",
   "name": "python3"
  },
  "language_info": {
   "codemirror_mode": {
    "name": "ipython",
    "version": 3
   },
   "file_extension": ".py",
   "mimetype": "text/x-python",
   "name": "python",
   "nbconvert_exporter": "python",
   "pygments_lexer": "ipython3",
   "version": "3.11.3"
  }
 },
 "nbformat": 4,
 "nbformat_minor": 5
}
