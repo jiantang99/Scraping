{
 "cells": [
  {
   "cell_type": "code",
   "execution_count": 33,
   "id": "7c1855ec",
   "metadata": {},
   "outputs": [],
   "source": [
    "from bs4 import BeautifulSoup\n",
    "import urllib.request,sys,time\n",
    "import requests\n",
    "import pandas as pd\n",
    "import re\n",
    "import math\n",
    "import os"
   ]
  },
  {
   "cell_type": "code",
   "execution_count": 31,
   "id": "1e419b75",
   "metadata": {},
   "outputs": [],
   "source": [
    "titles_list = list()\n",
    "links_list = list()\n",
    "dates_list = list()\n",
    "\n",
    "url = 'https://www.fasb.org/Page/PageContent?PageId=/news-media/inthenews.html'\n",
    "\n",
    "try:\n",
    "     page = requests.get(url) \n",
    "except Exception as e:    \n",
    "    print('Error with FASB link')\n",
    "        \n",
    "soup = BeautifulSoup(page.text, \"html.parser\")\n",
    "blocks = soup.find('div', class_='year year-2023')\n",
    "\n",
    "for a in blocks.find_all('a'):\n",
    "    titles_list.append(a.text)\n",
    "    links_list.append(a['href'])\n",
    "    \n",
    "pattern = r\"(January|February|March|April|May|June|July|August|September|October|November|December)\\s\\d{1,2},\\s\\d{4}\"\n",
    "    \n",
    "for b in blocks:\n",
    "    if re.search(pattern, b.text, re.MULTILINE) and len(b) > 5 and 'June' in b and '2023' in b:\n",
    "        dates_list.append(b)\n",
    "        \n",
    "for a in titles_list[0,len(dates_list)]:\n",
    "    titles.append(a)\n",
    "for b in links_list[0,len(dates_list)]:\n",
    "    links.append(a)\n",
    "for c in dates_list:\n",
    "    dates.append(c)\n"
   ]
  },
  {
   "cell_type": "code",
   "execution_count": 32,
   "id": "0e0c47cb",
   "metadata": {},
   "outputs": [
    {
     "name": "stdout",
     "output_type": "stream",
     "text": [
      "['\\nJune 27, 2023\\n', '\\nJune 16, 2023\\n', '\\nJune 9, 2023\\n', '\\nJune 8, 2023\\n']\n"
     ]
    }
   ],
   "source": [
    "print(dates_list)\n"
   ]
  },
  {
   "cell_type": "code",
   "execution_count": 38,
   "id": "469f1716",
   "metadata": {},
   "outputs": [],
   "source": [
    "titles_list = list()\n",
    "links_list = list()\n",
    "dates_list = list()\n",
    "organisations = list()\n",
    "dates = list()\n",
    "links = list()\n",
    "titles = list()\n",
    "year = '2023'\n",
    "month='June'\n",
    "\n",
    "url = 'https://www.fasb.org/Page/PageContent?PageId=/news-media/inthenews.html'\n",
    "\n",
    "try:\n",
    "    page = requests.get(url) \n",
    "except Exception as e:    \n",
    "    print('Error with FASB link')\n",
    "\n",
    "soup = BeautifulSoup(page.text, \"html.parser\")\n",
    "blocks = soup.find('div', class_='year year-{yr}'.format(yr=year))\n",
    "\n",
    "for a in blocks.find_all('a'):\n",
    "    titles_list.append(a.text)\n",
    "    links_list.append(a['href'])\n",
    "\n",
    "pattern = r\"(January|February|March|April|May|June|July|August|September|October|November|December)\\s\\d{1,2},\\s\\d{4}\"\n",
    "\n",
    "for b in blocks:\n",
    "    if re.search(pattern, b.text, re.MULTILINE) and len(b) > 5 and month in b and year in b:\n",
    "        dates_list.append(b)\n",
    "\n",
    "for a in titles_list[0:len(dates_list)]:\n",
    "    titles.append(a)\n",
    "for b in links_list[0:len(dates_list)]:\n",
    "    links.append(b)\n",
    "for c in dates_list:\n",
    "    dates.append(c)\n",
    "    organisations.append('FASB')"
   ]
  },
  {
   "cell_type": "code",
   "execution_count": 45,
   "id": "6ad01c43",
   "metadata": {},
   "outputs": [
    {
     "name": "stdout",
     "output_type": "stream",
     "text": [
      "/page/PageContent?pageId=/pcc/PccMeetings/pcc-meeting-recap-june-22-23-2023.html\n",
      "/page/getarticle?uid=fasb_Media_Advisory_06-27-23\n",
      "/page/PageContent?pageId=/eitf/recap/eitf-meeting-recap-june-15-2023.html&isstaticpage=true&bcpath=tfff\n",
      "/Page/PageContent?PageId=/about-us/advisory-groups/sbac/sbacmeetingrecap/sbac-meeting-recap-may-18-2023.html\n",
      "/page/getarticle?uid=fasb_Media_Advisory_06-08-23\n",
      "/Page/PageContent?PageId=/about-us/advisory-groups/iac/meetingrecap/iac-meeting-recap-May-11-2023.html&isstaticpage=true&bcpath=tfff\n",
      "https://accountingfoundation.org/page/getarticle?uid=faf_NewsRelease-05-12-23-pcc\n",
      "/page/getarticle?uid=fasb_Media_Advisory_05-11-23\n",
      "https://accountingfoundation.org/page/getarticle?uid=faf_NewsRelease-05-11-23-fasac\n",
      "/page/PageContent?pageId=/pcc/PccMeetings/pcc-meeting-recap-april-25-2023.html\n",
      "https://accountingfoundation.org/page/getarticle?uid=faf_NewsRelease-04-26-23\n",
      "/page/getarticle?uid=fasb_Media_Advisory_04-24-23\n",
      "/page/getarticle?uid=fasb_News_Release_04-18-23\n",
      "/page/getarticle?uid=fasb_Media_Advisory_04-13-23\n",
      "/page/getarticle?uid=fasb_Media_Advisory_04-10-23\n",
      "/Page/PageContent?PageId=/about-us/advisory-groups/nac/meeting-recap/nac-meeting-recap-march-23-2023.html\n",
      "/Page/PageContent?PageId=/about-us/advisory-groups/fasac/fasac-meeting-recap/fasac-meeting-recap-march-7-2023.html\n",
      "/page/getarticle?uid=fasb_Media_Advisory_03-29-23\n",
      "/page/getarticle?uid=fasb_Media_Advisory_03-27-23\n",
      "/page/getarticle?uid=fasb_Media_Advisory_03-24-23\n",
      "/page/getarticle?uid=fasb_Media_Advisory_03-23-23\n",
      "/page/getarticle?uid=fasb_Media_Advisory_03-21-23\n",
      "/page/getarticle?uid=fasb_Media_Advisory_03-15-23\n",
      "/page/getarticle?uid=fasb_Media_Advisory_03-09-23\n",
      "https://accountingfoundation.org/page/getarticle?uid=faf_MediaAdvisory-02-28-23\n",
      "https://accountingfoundation.org/page/getarticle?uid=faf_MediaAdvisory-02-27-23\n",
      "/page/getarticle?uid=fasb_Media_Advisory_02-08-23\n",
      "https://accountingfoundation.org/page/getarticle?uid=faf_NewsRelease-01-30-23\n",
      "/page/getarticle?uid=fasb_Media_Advisory_01-23-23\n",
      "https://fafBaseUrl/page/getarticle?uid=faf_MediaAdvisory-01-11-23-fasb-member-nominations\n",
      "https://fafBaseUrl/page/getarticle?uid=faf_MediaAdvisory-01-11-23-fasb-member-nominations\n",
      "https://fafBaseUrl/page/getarticle?uid=faf_MediaAdvisory-01-04-23\n",
      "/page/getarticle?uid=fasb_Media_Advisory_01-03-23\n"
     ]
    }
   ],
   "source": [
    "for a in blocks.find_all('a'):\n",
    "    print(a['href'])"
   ]
  },
  {
   "cell_type": "code",
   "execution_count": null,
   "id": "94e8311c",
   "metadata": {},
   "outputs": [],
   "source": []
  }
 ],
 "metadata": {
  "kernelspec": {
   "display_name": "Python 3 (ipykernel)",
   "language": "python",
   "name": "python3"
  },
  "language_info": {
   "codemirror_mode": {
    "name": "ipython",
    "version": 3
   },
   "file_extension": ".py",
   "mimetype": "text/x-python",
   "name": "python",
   "nbconvert_exporter": "python",
   "pygments_lexer": "ipython3",
   "version": "3.11.3"
  }
 },
 "nbformat": 4,
 "nbformat_minor": 5
}
