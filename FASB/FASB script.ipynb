{
 "cells": [
  {
   "cell_type": "code",
   "execution_count": 2,
   "id": "7c1855ec",
   "metadata": {},
   "outputs": [],
   "source": [
    "from bs4 import BeautifulSoup\n",
    "import urllib.request,sys,time\n",
    "import requests\n",
    "import pandas as pd\n",
    "import re\n",
    "import math\n",
    "import os"
   ]
  },
  {
   "cell_type": "code",
   "execution_count": 40,
   "id": "1e419b75",
   "metadata": {},
   "outputs": [],
   "source": [
    "url = 'https://www.fasb.org/Search/AdvanceSearch?Query=cloud+advisory&searchOption=all&SearchOptionValue=&ResultsPerPage=10&sortby=relevancy&IncludeDocuments=on&PageNo=0'\n",
    "\n",
    "try:\n",
    "     page = requests.get(url) \n",
    "except Exception as e:    \n",
    "    error_type, error_obj, error_info = sys.exc_info()      \n",
    "    print ('ERROR FOR LINK:',url)\n",
    "    print (error_type, 'Line:', error_info.tb_lineno)\n",
    "        \n",
    "soup = BeautifulSoup(page.text, \"html.parser\")\n",
    "totalResultsString = soup.find('div', {'aria-label': 'No of result details'}).text.strip()\n",
    "totalResults = int(totalResultsString[totalResultsString.index('of')+3:totalResultsString.index('Results')])\n",
    "\n",
    "if totalResults % 10 != 0:\n",
    "    totalPages = (totalResults / 10) + 1\n",
    "else:\n",
    "    totalPages = (totalResults / 10)\n",
    "    \n",
    "links_list = list()\n",
    "titles_list = list()\n",
    "\n",
    "for page in range(0,int(totalPages)-1):\n",
    "    url = 'https://www.fasb.org/Search/AdvanceSearch?Query=cloud+advisory&searchOption=all&SearchOptionValue=&ResultsPerPage=10&sortby=relevancy&IncludeDocuments=on&PageNo={pageNum}'.format(pageNum=page)\n",
    "    try:\n",
    "         page = requests.get(url) \n",
    "    except Exception as e:    \n",
    "        error_type, error_obj, error_info = sys.exc_info()      \n",
    "        print ('ERROR FOR LINK:',url)\n",
    "        print (error_type, 'Line:', error_info.tb_lineno)\n",
    "    soup = BeautifulSoup(page.text, \"html.parser\")\n",
    "    titlesAndLinks = soup.find_all('p', class_='pb-10px')\n",
    "    for a in titlesAndLinks:\n",
    "        titles_list.append(a.text.strip())\n",
    "        links_list.append(a.find('a',href=True)['href'])\n",
    "        \n",
    "d = {'Title': titles_list, 'Link': links_list}\n",
    "df=pd.DataFrame(data=d)\n",
    "df.to_csv(r'C:\\Users\\65936\\\\OneDrive\\Desktop\\MAS\\\\FASB.csv')"
   ]
  },
  {
   "cell_type": "code",
   "execution_count": null,
   "id": "0e0c47cb",
   "metadata": {},
   "outputs": [],
   "source": []
  }
 ],
 "metadata": {
  "kernelspec": {
   "display_name": "Python 3 (ipykernel)",
   "language": "python",
   "name": "python3"
  },
  "language_info": {
   "codemirror_mode": {
    "name": "ipython",
    "version": 3
   },
   "file_extension": ".py",
   "mimetype": "text/x-python",
   "name": "python",
   "nbconvert_exporter": "python",
   "pygments_lexer": "ipython3",
   "version": "3.11.3"
  }
 },
 "nbformat": 4,
 "nbformat_minor": 5
}
