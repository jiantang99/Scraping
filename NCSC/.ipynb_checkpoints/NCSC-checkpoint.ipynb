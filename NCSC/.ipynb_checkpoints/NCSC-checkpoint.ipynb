{
 "cells": [
  {
   "cell_type": "code",
   "execution_count": 2,
   "id": "2e81ae81",
   "metadata": {},
   "outputs": [],
   "source": [
    "import requests\n",
    "from bs4 import BeautifulSoup\n",
    "from datetime import datetime\n",
    "import pandas as pd \n",
    "import os\n",
    "from selenium import webdriver\n",
    "from selenium.webdriver.common.by import By\n",
    "from selenium.webdriver.support.wait import WebDriverWait\n",
    "from selenium.webdriver.support import expected_conditions as EC"
   ]
  },
  {
   "cell_type": "code",
   "execution_count": 3,
   "id": "aa240985",
   "metadata": {},
   "outputs": [],
   "source": [
    "driver = webdriver.Chrome()\n",
    "driver.implicitly_wait(10)\n",
    "# Open the URL\n",
    "url = \"https://www.ncsc.gov.uk/section/keep-up-to-date/reports-advisories\"\n",
    "driver.get(url)\n",
    "wait = WebDriverWait(driver, 10)\n",
    "button_script = \"\"\"\n",
    "var button = document.querySelector('.pcf-button.button.button--normalised.button--secondary.pull-right.cookie-button');\n",
    "button.click();\n",
    "\"\"\"\n",
    "\n",
    "\n",
    "\n",
    "lst = []\n",
    "title_lst = []\n",
    "d_lst = []\n",
    "\n",
    "elements = driver.find_elements(\"xpath\",\"//a[contains(@class, 'reloadLink')]\")\n",
    "title = driver.find_elements(\"xpath\", \"//h4[contains(@class, 'pcf-results-item__title ')]\")\n",
    "date = driver.find_elements(\"xpath\", \"//li[contains(@class,'meta__item')]\")\n",
    "    \n",
    "for t in title:\n",
    "    if t.text not in title_lst:\n",
    "        title_lst.append(t.text)\n",
    "for ele in elements:\n",
    "    if ele.get_attribute('href') not in lst:\n",
    "        lst.append(ele.get_attribute('href'))\n",
    "            \n",
    "for d in date:\n",
    "    if d.text not in d_lst:\n",
    "        d_lst.append(d.text)\n",
    "            \n"
   ]
  },
  {
   "cell_type": "code",
   "execution_count": 4,
   "id": "087eae15",
   "metadata": {},
   "outputs": [],
   "source": [
    "final_d = list()\n",
    "current_datetime = datetime.now()\n",
    "current_month = current_datetime.strftime('%B')\n",
    "current_year = str(current_datetime.year)\n",
    "\n",
    "for i in d_lst:\n",
    "    if current_year in i and current_month in i:\n",
    "        final_d.append(i)\n",
    "        \n",
    "final_l = lst[:len(final_d)]\n",
    "final_t = title_lst[:len(final_d)]\n",
    "\n",
    "df = pd.DataFrame({\"Organisation\" : [\"NCSC\" for i in final_d],\n",
    "                 \"Title\" : final_t,\n",
    "                 \"Link\" : final_l,\n",
    "                 \"Date\" : final_d})\n",
    "\n",
    "\n",
    "current = os.getcwd().replace(\"\\\\\", \"/\")\n",
    "file_path = \"/Downloads/\"\n",
    "# Save to Downloads Folder\n",
    "save_string = \"NCSC_updates.xlsx\"\n",
    "save_string = current + file_path + save_string # Comment out to save to directory file is in\n",
    "df.to_excel(save_string, index = False)"
   ]
  },
  {
   "cell_type": "code",
   "execution_count": 5,
   "id": "727ec310",
   "metadata": {},
   "outputs": [
    {
     "name": "stdout",
     "output_type": "stream",
     "text": [
      "[]\n"
     ]
    }
   ],
   "source": [
    "print(final_t)"
   ]
  },
  {
   "cell_type": "code",
   "execution_count": null,
   "id": "486dddc6",
   "metadata": {},
   "outputs": [],
   "source": []
  }
 ],
 "metadata": {
  "kernelspec": {
   "display_name": "Python 3 (ipykernel)",
   "language": "python",
   "name": "python3"
  },
  "language_info": {
   "codemirror_mode": {
    "name": "ipython",
    "version": 3
   },
   "file_extension": ".py",
   "mimetype": "text/x-python",
   "name": "python",
   "nbconvert_exporter": "python",
   "pygments_lexer": "ipython3",
   "version": "3.11.3"
  }
 },
 "nbformat": 4,
 "nbformat_minor": 5
}
