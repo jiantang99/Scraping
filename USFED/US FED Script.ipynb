{
 "cells": [
  {
   "cell_type": "code",
   "execution_count": 16,
   "id": "def73376",
   "metadata": {},
   "outputs": [],
   "source": [
    "from bs4 import BeautifulSoup\n",
    "import urllib.request,sys,time\n",
    "import requests\n",
    "import pandas as pd\n",
    "import re\n",
    "import math\n",
    "import os\n",
    "from selenium import webdriver\n",
    "from selenium.webdriver.common.by import By\n",
    "from datetime import datetime"
   ]
  },
  {
   "cell_type": "markdown",
   "id": "a3b9a9ce",
   "metadata": {},
   "source": [
    "#### Loop titlesAndLinks is empty (len = 0)"
   ]
  },
  {
   "cell_type": "code",
   "execution_count": 69,
   "id": "5ad5aa35",
   "metadata": {},
   "outputs": [],
   "source": [
    "titles_list = list()\n",
    "links_list = list()\n",
    "dates_list = list()\n",
    "\n",
    "# Loop through url by incrementing start number by 10, each page has 10 results\n",
    "for page in range(0,200,10):\n",
    "    url = 'https://www.fedsearch.org/board_public/search?start={num}&number=10&source=board_pub&text=cloud+advisory&submit=Search'.format(num=page)\n",
    "    page = requests.get(url)\n",
    "    soup = BeautifulSoup(page.text, \"html.parser\")\n",
    "    results = soup.find('div', attrs={'id':'results'})\n",
    "    titlesAndLinks = results.find_all('a',href=True)\n",
    "    \n",
    "    # Checking if there are any more results\n",
    "    if int(len(titlesAndLinks)) == 0:\n",
    "        break\n",
    "        \n",
    "    # Counter to alternate appending to title and link\n",
    "    count = 1\n",
    "    for a in titlesAndLinks:\n",
    "        if count % 2 == 0:\n",
    "            links_list.append(a.text.strip())\n",
    "        else:\n",
    "            titles_list.append(a.text.strip())\n",
    "        count+=1\n",
    "        \n",
    "\n",
    "for link in links_list:\n",
    "    url = link\n",
    "    if url.__contains__('pdf'):\n",
    "        dates_list.append('-')\n",
    "        continue\n",
    "    try:\n",
    "        page = requests.get(url)\n",
    "        soup = BeautifulSoup(page.text, \"html.parser\")\n",
    "    except Exception as e:\n",
    "        error_type, error_obj, error_info = sys.exc_info()\n",
    "        print ('ERROR FOR LINK:',url)                       \n",
    "        print (error_type, 'Line:', error_info.tb_lineno)\n",
    "        dates_list.append('-')\n",
    "        continue\n",
    "\n",
    "    date = soup.find('div', class_='lastUpdate')\n",
    "    if date is None:\n",
    "        dates_list.append('-')\n",
    "        continue\n",
    "    else:\n",
    "        dates_list.append(date.text.strip())\n",
    "\n",
    "\n",
    "d = {'Title': titles_list, 'Link': links_list, 'Date':dates_list}\n",
    "df = pd.DataFrame(data = d)\n",
    "\n",
    "# Importing to csv\n",
    "df.to_csv(r'C:\\Users\\65936\\\\OneDrive\\Desktop\\MAS\\\\USFED.csv')"
   ]
  },
  {
   "cell_type": "markdown",
   "id": "691b91b3",
   "metadata": {},
   "source": [
    "#### Below is a working tool to scrape recent postings, but only shows latest 35 postings, and does not go through entire month"
   ]
  },
  {
   "cell_type": "code",
   "execution_count": 39,
   "id": "6ab31b72",
   "metadata": {},
   "outputs": [],
   "source": [
    "url = 'https://www.federalreserve.gov/recentpostings.htm'\n",
    "page = requests.get(url)\n",
    "soup = BeautifulSoup(page.text, \"html.parser\")\n",
    "titlesAndLinks = soup.find_all('div', class_='col-xs-9 col-md-10 eventlist__event')\n",
    "dates = soup.find_all('div', class_='col-xs-3 col-md-2 eventlist__time')\n",
    "\n",
    "links_list = list()\n",
    "titles_list = list()\n",
    "dates_list = list()\n",
    "\n",
    "base_url = 'https://www.federalreserve.gov'\n",
    "\n",
    "\n",
    "for a in titlesAndLinks:\n",
    "    new_link = base_url + a.find('a',href=True)['href']\n",
    "    links_list.append(new_link) # Link\n",
    "    titles_list.append(a.text.strip()) # Desc\n",
    "    \n",
    "for b in dates:\n",
    "    dates_list.append(b.find('time').text.strip()) # Date\n",
    "\n",
    "\n",
    "d = {'Title': titles_list,'Link':links_list,'Date':dates_list}\n",
    "df = pd.DataFrame(data=d)\n",
    "df.to_csv(r'C:\\Users\\65936\\\\OneDrive\\Desktop\\MAS\\\\USFED_new.csv')"
   ]
  },
  {
   "cell_type": "code",
   "execution_count": 44,
   "id": "16e3ed2e",
   "metadata": {},
   "outputs": [
    {
     "name": "stdout",
     "output_type": "stream",
     "text": [
      "[]\n"
     ]
    }
   ],
   "source": [
    "\n",
    "driver = webdriver.Chrome()\n",
    "driver.get('https://www.federalreserve.gov/publications/filter.htm')\n",
    "button = driver.find_element(By.XPATH,\"//*[text()=' Submit']\")\n",
    "button.click()\n",
    "driver.implicitly_wait(5)\n",
    "html = driver.page_source\n",
    "soup = BeautifulSoup(html, \"html.parser\")\n",
    "blocks = soup.find_all('pw-filter-item')\n",
    "print(blocks)\n"
   ]
  },
  {
   "cell_type": "code",
   "execution_count": null,
   "id": "27bb7953",
   "metadata": {},
   "outputs": [],
   "source": []
  }
 ],
 "metadata": {
  "kernelspec": {
   "display_name": "Python 3 (ipykernel)",
   "language": "python",
   "name": "python3"
  },
  "language_info": {
   "codemirror_mode": {
    "name": "ipython",
    "version": 3
   },
   "file_extension": ".py",
   "mimetype": "text/x-python",
   "name": "python",
   "nbconvert_exporter": "python",
   "pygments_lexer": "ipython3",
   "version": "3.11.3"
  }
 },
 "nbformat": 4,
 "nbformat_minor": 5
}
