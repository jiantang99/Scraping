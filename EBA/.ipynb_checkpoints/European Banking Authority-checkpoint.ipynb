{
 "cells": [
  {
   "cell_type": "code",
   "execution_count": 2,
   "id": "335b89b2",
   "metadata": {},
   "outputs": [],
   "source": [
    "import requests\n",
    "from bs4 import BeautifulSoup\n",
    "from datetime import datetime\n",
    "import pandas as pd \n",
    "import os"
   ]
  },
  {
   "cell_type": "code",
   "execution_count": 5,
   "id": "d385fc3d",
   "metadata": {},
   "outputs": [],
   "source": [
    "url = \"https://www.eba.europa.eu/all-news-and-press-releases?page=\"\n",
    "counter = 1\n",
    "track = True\n",
    "href_list = list()\n",
    "date_list = list()\n",
    "title_list = list()\n",
    "base = \"https://www.eba.europa.eu\"\n",
    "\n",
    "# Send a GET request to the website\n",
    "while track:\n",
    "    # link to page number\n",
    "    track = False\n",
    "    concat = url + str(counter)\n",
    "    response = requests.get(concat)\n",
    "\n",
    "    # Create a BeautifulSoup object to parse the HTML content\n",
    "    soup = BeautifulSoup(response.content, \"html.parser\")\n",
    "\n",
    "    # Find all <a> elements with class=\"list-group-item\"\n",
    "    link_elements = soup.find_all(\"a\", class_=\"list-group-item\")\n",
    "\n",
    "    # Find all <div> elements with class=\"list-group-item SecondaryInfo\"\n",
    "    info_elements = soup.find_all(\"p\", class_=\"list-group-item-text SecondaryInfo\")\n",
    "    \n",
    "    title_elements = soup.find_all(\"h3\", class_ =\"list-group-item-heading\")\n",
    "\n",
    "    current_datetime = datetime.now()\n",
    "    current_month = current_datetime.strftime('%B')\n",
    "    current_year = str(current_datetime.year)\n",
    "\n",
    "\n",
    "    # Iterate over the extracted elements\n",
    "    for link, info,title in zip(link_elements, info_elements,title_elements):\n",
    "        href = link.get(\"href\")\n",
    "        text = info.text.strip()\n",
    "        d = text[:10]\n",
    "        date_object = datetime.strptime(d, \"%d/%m/%Y\")\n",
    "        formatted_date = date_object.strftime(\"%d %B %Y\")\n",
    "        if current_year in formatted_date and current_month in formatted_date:\n",
    "            track = True\n",
    "            href_list.append(base+href)\n",
    "            date_list.append(formatted_date)\n",
    "            title_list.append(title.text.strip())\n",
    "    counter += 1\n",
    "\n",
    "df = pd.DataFrame({\"Organisation\" : [\"European Banking Authority\" for i in href_list],\n",
    "                   \"Title\" : title_list,\n",
    "                 \"Link\" : href_list,\n",
    "                 \"Date\": date_list})\n",
    "\n",
    "current = os.getcwd().replace(\"\\\\\", \"/\")\n",
    "file_path = \"/Downloads/\"\n",
    "# Save to Downloads Folder\n",
    "save_string = \"EBA_updates.xlsx\"\n",
    "save_string = current + file_path + save_string # Comment out to save to directory file is in\n",
    "df.to_excel(save_string, index = False)"
   ]
  },
  {
   "cell_type": "code",
   "execution_count": 9,
   "id": "325364de",
   "metadata": {},
   "outputs": [
    {
     "name": "stdout",
     "output_type": "stream",
     "text": [
      "['https://www.eba.europa.eu/%E2%80%8Beba-annual-report-highlights-key-achievements-2022%C2%A0', 'https://www.eba.europa.eu/eba-issues-revised-list-its-validation-rules-10', 'https://www.eba.europa.eu/esa%E2%80%99s-board-appeal-dismissed-request-suspension-appeal-euroins-insurance-group-ad-against-eiopa', 'https://www.eba.europa.eu/eba-updates-list-correlated-currencies-0', 'https://www.eba.europa.eu/eba-issues-opinion-measures-address-macroprudential-risk-following-notification-estonian-central-0', 'https://www.eba.europa.eu/eba-publishes-final-draft-technical-standards-specifying-data-collection-benchmarking-exercise-2024', 'https://www.eba.europa.eu/eba-releases-technical-package-phase-1-its-33-reporting-framework', 'https://www.eba.europa.eu/esas-present-common-understanding-greenwashing-and-warn-related-risks']\n"
     ]
    }
   ],
   "source": []
  },
  {
   "cell_type": "code",
   "execution_count": null,
   "id": "0dae3ace",
   "metadata": {},
   "outputs": [],
   "source": []
  }
 ],
 "metadata": {
  "kernelspec": {
   "display_name": "Python 3 (ipykernel)",
   "language": "python",
   "name": "python3"
  },
  "language_info": {
   "codemirror_mode": {
    "name": "ipython",
    "version": 3
   },
   "file_extension": ".py",
   "mimetype": "text/x-python",
   "name": "python",
   "nbconvert_exporter": "python",
   "pygments_lexer": "ipython3",
   "version": "3.11.3"
  }
 },
 "nbformat": 4,
 "nbformat_minor": 5
}
