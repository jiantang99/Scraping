{
 "cells": [
  {
   "cell_type": "code",
   "execution_count": 1,
   "id": "335b89b2",
   "metadata": {},
   "outputs": [],
   "source": [
    "import requests\n",
    "from bs4 import BeautifulSoup\n",
    "from datetime import datetime\n",
    "import pandas as pd \n",
    "import os"
   ]
  },
  {
   "cell_type": "code",
   "execution_count": 36,
   "id": "d385fc3d",
   "metadata": {},
   "outputs": [],
   "source": [
    "url = \"https://www.eba.europa.eu/all-news-and-press-releases?page=\"\n",
    "counter = 1\n",
    "track = True\n",
    "href_list = list()\n",
    "date_list = list()\n",
    "title_list = list()\n",
    "base = \"https://www.eba.europa.eu\"\n",
    "\n",
    "# Send a GET request to the website\n",
    "while track:\n",
    "    # link to page number\n",
    "    track = False\n",
    "    concat = url + str(counter)\n",
    "    response = requests.get(concat)\n",
    "\n",
    "    # Create a BeautifulSoup object to parse the HTML content\n",
    "    soup = BeautifulSoup(response.content, \"html.parser\")\n",
    "\n",
    "    # Find all <a> elements with class=\"list-group-item\"\n",
    "    link_elements = soup.find_all(\"a\", class_=\"list-group-item\")\n",
    "\n",
    "    # Find all <div> elements with class=\"list-group-item SecondaryInfo\"\n",
    "    info_elements = soup.find_all(\"p\", class_=\"list-group-item-text SecondaryInfo\")\n",
    "    \n",
    "    title_elements = soup.find_all(\"h3\", class_ =\"list-group-item-heading\")\n",
    "\n",
    "    current_datetime = datetime.now()\n",
    "    current_month = current_datetime.strftime('%B')\n",
    "    current_year = str(current_datetime.year)\n",
    "\n",
    "\n",
    "    # Iterate over the extracted elements\n",
    "    for link, info,title in zip(link_elements, info_elements,title_elements):\n",
    "        href = link.get(\"href\")\n",
    "        text = info.text.strip()\n",
    "        d = text[:10]\n",
    "        date_object = datetime.strptime(d, \"%d/%m/%Y\")\n",
    "        formatted_date = date_object.strftime(\"%d %B %Y\")\n",
    "        if current_year in formatted_date and current_month in formatted_date:\n",
    "            track = True\n",
    "            href_list.append(base+href)\n",
    "            date_list.append(formatted_date)\n",
    "            title_list.append(title.text.strip())\n",
    "    counter += 1\n",
    "\n",
    "df = pd.DataFrame({\"Organisation\" : [\"European Banking Authority\" for i in href_list],\n",
    "                   \"Title\" : title_list,\n",
    "                 \"Link\" : href_list,\n",
    "                 \"Date\": date_list})\n",
    "\n",
    "current = os.getcwd().replace(\"\\\\\", \"/\")\n",
    "file_path = \"/Downloads/\"\n",
    "# Save to Downloads Folder\n",
    "save_string = \"EBA_updates.xlsx\"\n",
    "save_string = current + file_path + save_string # Comment out to save to directory file is in\n",
    "df.to_excel(save_string, index = False)"
   ]
  },
  {
   "cell_type": "code",
   "execution_count": null,
   "id": "325364de",
   "metadata": {},
   "outputs": [],
   "source": []
  }
 ],
 "metadata": {
  "kernelspec": {
   "display_name": "Python 3",
   "language": "python",
   "name": "python3"
  },
  "language_info": {
   "codemirror_mode": {
    "name": "ipython",
    "version": 3
   },
   "file_extension": ".py",
   "mimetype": "text/x-python",
   "name": "python",
   "nbconvert_exporter": "python",
   "pygments_lexer": "ipython3",
   "version": "3.8.8"
  }
 },
 "nbformat": 4,
 "nbformat_minor": 5
}
