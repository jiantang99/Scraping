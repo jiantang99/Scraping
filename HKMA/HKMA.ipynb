{
 "cells": [
  {
   "cell_type": "code",
   "execution_count": 35,
   "id": "4a5489df",
   "metadata": {},
   "outputs": [],
   "source": [
    "import urllib.request\n",
    "import pprint\n",
    "import json\n",
    "from datetime import datetime\n",
    "import pandas as pd \n",
    "import os \n",
    "\n",
    "url = 'https://api.hkma.gov.hk/public/press-releases?lang=en&offset=0'\n",
    "\n",
    "with urllib.request.urlopen (url) as req:\n",
    "    string = req.read()"
   ]
  },
  {
   "cell_type": "code",
   "execution_count": 36,
   "id": "3cbd898a",
   "metadata": {},
   "outputs": [],
   "source": [
    "# Parse the JSON string\n",
    "parsed_data = json.loads(string)\n",
    "\n",
    "# Extract the titles, links, and dates\n",
    "titles = [record['title'] for record in parsed_data['result']['records']]\n",
    "links = [record['link'] for record in parsed_data['result']['records']]\n",
    "dates = [record['date'] for record in parsed_data['result']['records']]\n",
    "\n",
    "date_list = list()\n",
    "current_datetime = datetime.now()\n",
    "current_month = current_datetime.strftime('%B')\n",
    "current_year = str(current_datetime.year)\n",
    "\n",
    "for i in dates:\n",
    "    date_obj = datetime.strptime(i, \"%Y-%m-%d\")\n",
    "    formatted_date = date_obj.strftime(\"%d %B %Y\")\n",
    "    if current_month in formatted_date and current_year in formatted_date:\n",
    "        date_list.append(formatted_date)\n",
    "        \n",
    "title_list = titles[:len(date_list)]\n",
    "link_list = links[:len(date_list)]\n",
    "\n",
    "df = pd.DataFrame({\"Organisation\": [\"HKMA\" for i in date_list],\n",
    "                   \"Title\" : title_list,\n",
    "                   \"Link\" : link_list,\n",
    "                  \"Date\": date_list})\n",
    "\n",
    "current = os.getcwd().replace(\"\\\\\", \"/\")\n",
    "file_path = \"/Downloads/\"\n",
    "# Save to Downloads Folder\n",
    "save_string = \"HKMA_updates.xlsx\"\n",
    "save_string = current + file_path + save_string # Comment out to save to directory file is in\n",
    "df.to_excel(save_string, index = False)"
   ]
  },
  {
   "cell_type": "code",
   "execution_count": null,
   "id": "0d244dd2",
   "metadata": {},
   "outputs": [],
   "source": []
  }
 ],
 "metadata": {
  "kernelspec": {
   "display_name": "Python 3",
   "language": "python",
   "name": "python3"
  },
  "language_info": {
   "codemirror_mode": {
    "name": "ipython",
    "version": 3
   },
   "file_extension": ".py",
   "mimetype": "text/x-python",
   "name": "python",
   "nbconvert_exporter": "python",
   "pygments_lexer": "ipython3",
   "version": "3.8.8"
  }
 },
 "nbformat": 4,
 "nbformat_minor": 5
}
