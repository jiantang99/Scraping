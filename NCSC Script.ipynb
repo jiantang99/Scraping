{
 "cells": [
  {
   "cell_type": "code",
   "execution_count": 2,
   "id": "e744db2e",
   "metadata": {},
   "outputs": [],
   "source": [
    "import requests\n",
    "from bs4 import BeautifulSoup\n",
    "from datetime import datetime\n",
    "import pandas as pd \n",
    "import os\n",
    "from selenium import webdriver\n",
    "from selenium.webdriver.common.by import By\n",
    "from selenium.webdriver.support.wait import WebDriverWait\n",
    "from selenium.webdriver.support import expected_conditions "
   ]
  },
  {
   "cell_type": "code",
   "execution_count": 23,
   "id": "c4089ad6",
   "metadata": {},
   "outputs": [
    {
     "name": "stdout",
     "output_type": "stream",
     "text": [
      "title\n",
      "Cyber Threat Report: UK Legal Sector\n",
      "link\n",
      "/report/cyber-threat-report-uk-legal-sector\n",
      "date\n",
      "22 June 2023\n",
      "title\n",
      "NCSC and international partners shine a light on Lockbit ransomware threat\n",
      "link\n",
      "/news/ncsc-international-partners-lockbit-ransomware-threat\n",
      "date\n",
      "14 June 2023\n"
     ]
    }
   ],
   "source": [
    "driver = webdriver.Chrome()\n",
    "\n",
    "# Open the URL\n",
    "url = \"https://www.ncsc.gov.uk/section/keep-up-to-date/reports-advisories\"\n",
    "driver.get(url)\n",
    "driver.implicitly_wait(5)\n",
    "button = driver.find_element(By.XPATH,\"//*[text()='Accept optional cookies']\")\n",
    "button.click()\n",
    "driver.implicitly_wait(5)\n",
    "\n",
    "# Get HTML code\n",
    "html = driver.page_source\n",
    "\n",
    "soup = BeautifulSoup(html, 'html.parser')\n",
    "div_element = soup.find_all('div', class_='pcf-article-content-item')\n",
    "driver.close()\n",
    "\n",
    "for a in div_element:\n",
    "    if 'June' in a.find('ul',class_='meta').text and '2023' in a.find('ul',class_='meta').text:\n",
    "        print('title')\n",
    "        print(a.find('h4', class_='pcf-results-item__title').text)\n",
    "        print('link')\n",
    "        print(a.find('a',href=True)['href'])\n",
    "        print('date')\n",
    "        print(a.find('ul',class_='meta').text)\n",
    "\n"
   ]
  },
  {
   "cell_type": "code",
   "execution_count": 22,
   "id": "23f16967",
   "metadata": {},
   "outputs": [
    {
     "name": "stdout",
     "output_type": "stream",
     "text": [
      "title\n",
      "Cyber Threat Report: UK Legal Sector\n",
      "link\n",
      "/report/cyber-threat-report-uk-legal-sector\n",
      "date\n",
      "22 June 2023\n",
      "title\n",
      "NCSC and international partners shine a light on Lockbit ransomware threat\n",
      "link\n",
      "/news/ncsc-international-partners-lockbit-ransomware-threat\n",
      "date\n",
      "14 June 2023\n",
      "title\n",
      "MOVEit vulnerability and data extortion incident\n",
      "link\n",
      "/information/moveit-vulnerability\n",
      "date\n",
      "\n",
      "title\n",
      "NCSC joins partners to issue warning about China state-sponsored cyber activity targeting CNI networks\n",
      "link\n",
      "/news/ncsc-joins-partners-to-issue-warning-about-chinese-cyber-activity-targeting-cni\n",
      "date\n",
      "24 May 2023\n",
      "title\n",
      "UK and allies expose Snake malware threat from Russian cyber actors\n",
      "link\n",
      "/news/uk-and-allies-expose-snake-malware-threat-from-russian-cyber-actors\n",
      "date\n",
      "9 May 2023\n"
     ]
    }
   ],
   "source": [
    "for a in div_element:\n",
    "    print('title')\n",
    "    print(a.find('h4', class_='pcf-results-item__title').text)\n",
    "    print('link')\n",
    "    print(a.find('a',href=True)['href'])\n",
    "    print('date')\n",
    "    print(a.find('ul',class_='meta').text)"
   ]
  },
  {
   "cell_type": "code",
   "execution_count": null,
   "id": "b6349546",
   "metadata": {},
   "outputs": [],
   "source": []
  }
 ],
 "metadata": {
  "kernelspec": {
   "display_name": "Python 3 (ipykernel)",
   "language": "python",
   "name": "python3"
  },
  "language_info": {
   "codemirror_mode": {
    "name": "ipython",
    "version": 3
   },
   "file_extension": ".py",
   "mimetype": "text/x-python",
   "name": "python",
   "nbconvert_exporter": "python",
   "pygments_lexer": "ipython3",
   "version": "3.11.3"
  }
 },
 "nbformat": 4,
 "nbformat_minor": 5
}
