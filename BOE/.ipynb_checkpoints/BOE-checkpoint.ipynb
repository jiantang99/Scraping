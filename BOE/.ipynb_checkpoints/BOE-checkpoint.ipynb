{
 "cells": [
  {
   "cell_type": "code",
   "execution_count": 1,
   "id": "02ee98ef",
   "metadata": {},
   "outputs": [],
   "source": [
    "from bs4 import BeautifulSoup\n",
    "import urllib.request,sys,time\n",
    "import requests\n",
    "import pandas as pd\n",
    "import re\n",
    "import math\n",
    "import os\n",
    "from selenium import webdriver\n",
    "from selenium.webdriver.common.by import By\n",
    "from selenium.webdriver.firefox.options import Options\n",
    "from datetime import datetime"
   ]
  },
  {
   "cell_type": "code",
   "execution_count": 7,
   "id": "42919b1d",
   "metadata": {},
   "outputs": [
    {
     "ename": "ElementNotInteractableException",
     "evalue": "Message: element not interactable\n  (Session info: chrome=114.0.5735.134)\nStacktrace:\nBacktrace:\n\tGetHandleVerifier [0x00BFA813+48355]\n\t(No symbol) [0x00B8C4B1]\n\t(No symbol) [0x00A95220]\n\t(No symbol) [0x00AC1846]\n\t(No symbol) [0x00AB9F5C]\n\t(No symbol) [0x00ADA73C]\n\t(No symbol) [0x00AB9A36]\n\t(No symbol) [0x00ADAA94]\n\t(No symbol) [0x00AEC922]\n\t(No symbol) [0x00ADA536]\n\t(No symbol) [0x00AB82DC]\n\t(No symbol) [0x00AB93DD]\n\tGetHandleVerifier [0x00E5AABD+2539405]\n\tGetHandleVerifier [0x00E9A78F+2800735]\n\tGetHandleVerifier [0x00E9456C+2775612]\n\tGetHandleVerifier [0x00C851E0+616112]\n\t(No symbol) [0x00B95F8C]\n\t(No symbol) [0x00B92328]\n\t(No symbol) [0x00B9240B]\n\t(No symbol) [0x00B84FF7]\n\tBaseThreadInitThunk [0x767C7D59+25]\n\tRtlInitializeExceptionChain [0x77D8B74B+107]\n\tRtlClearBits [0x77D8B6CF+191]\n",
     "output_type": "error",
     "traceback": [
      "\u001b[1;31m---------------------------------------------------------------------------\u001b[0m",
      "\u001b[1;31mElementNotInteractableException\u001b[0m           Traceback (most recent call last)",
      "Cell \u001b[1;32mIn[7], line 12\u001b[0m\n\u001b[0;32m     10\u001b[0m \u001b[38;5;66;03m# Accept recommended cookies\u001b[39;00m\n\u001b[0;32m     11\u001b[0m button \u001b[38;5;241m=\u001b[39m driver\u001b[38;5;241m.\u001b[39mfind_element(By\u001b[38;5;241m.\u001b[39mXPATH,\u001b[38;5;124m\"\u001b[39m\u001b[38;5;124m//*[text()=\u001b[39m\u001b[38;5;124m'\u001b[39m\u001b[38;5;124mProceed with necessary cookies only\u001b[39m\u001b[38;5;124m'\u001b[39m\u001b[38;5;124m]\u001b[39m\u001b[38;5;124m\"\u001b[39m)\n\u001b[1;32m---> 12\u001b[0m \u001b[43mbutton\u001b[49m\u001b[38;5;241;43m.\u001b[39;49m\u001b[43mclick\u001b[49m\u001b[43m(\u001b[49m\u001b[43m)\u001b[49m\n\u001b[0;32m     13\u001b[0m driver\u001b[38;5;241m.\u001b[39mimplicitly_wait(\u001b[38;5;241m5\u001b[39m)\n\u001b[0;32m     15\u001b[0m html \u001b[38;5;241m=\u001b[39m driver\u001b[38;5;241m.\u001b[39mpage_source\n",
      "File \u001b[1;32m~\\AppData\\Local\\Programs\\Python\\Python311\\Lib\\site-packages\\selenium\\webdriver\\remote\\webelement.py:94\u001b[0m, in \u001b[0;36mWebElement.click\u001b[1;34m(self)\u001b[0m\n\u001b[0;32m     92\u001b[0m \u001b[38;5;28;01mdef\u001b[39;00m \u001b[38;5;21mclick\u001b[39m(\u001b[38;5;28mself\u001b[39m) \u001b[38;5;241m-\u001b[39m\u001b[38;5;241m>\u001b[39m \u001b[38;5;28;01mNone\u001b[39;00m:\n\u001b[0;32m     93\u001b[0m \u001b[38;5;250m    \u001b[39m\u001b[38;5;124;03m\"\"\"Clicks the element.\"\"\"\u001b[39;00m\n\u001b[1;32m---> 94\u001b[0m     \u001b[38;5;28;43mself\u001b[39;49m\u001b[38;5;241;43m.\u001b[39;49m\u001b[43m_execute\u001b[49m\u001b[43m(\u001b[49m\u001b[43mCommand\u001b[49m\u001b[38;5;241;43m.\u001b[39;49m\u001b[43mCLICK_ELEMENT\u001b[49m\u001b[43m)\u001b[49m\n",
      "File \u001b[1;32m~\\AppData\\Local\\Programs\\Python\\Python311\\Lib\\site-packages\\selenium\\webdriver\\remote\\webelement.py:395\u001b[0m, in \u001b[0;36mWebElement._execute\u001b[1;34m(self, command, params)\u001b[0m\n\u001b[0;32m    393\u001b[0m     params \u001b[38;5;241m=\u001b[39m {}\n\u001b[0;32m    394\u001b[0m params[\u001b[38;5;124m\"\u001b[39m\u001b[38;5;124mid\u001b[39m\u001b[38;5;124m\"\u001b[39m] \u001b[38;5;241m=\u001b[39m \u001b[38;5;28mself\u001b[39m\u001b[38;5;241m.\u001b[39m_id\n\u001b[1;32m--> 395\u001b[0m \u001b[38;5;28;01mreturn\u001b[39;00m \u001b[38;5;28;43mself\u001b[39;49m\u001b[38;5;241;43m.\u001b[39;49m\u001b[43m_parent\u001b[49m\u001b[38;5;241;43m.\u001b[39;49m\u001b[43mexecute\u001b[49m\u001b[43m(\u001b[49m\u001b[43mcommand\u001b[49m\u001b[43m,\u001b[49m\u001b[43m \u001b[49m\u001b[43mparams\u001b[49m\u001b[43m)\u001b[49m\n",
      "File \u001b[1;32m~\\AppData\\Local\\Programs\\Python\\Python311\\Lib\\site-packages\\selenium\\webdriver\\remote\\webdriver.py:346\u001b[0m, in \u001b[0;36mWebDriver.execute\u001b[1;34m(self, driver_command, params)\u001b[0m\n\u001b[0;32m    344\u001b[0m response \u001b[38;5;241m=\u001b[39m \u001b[38;5;28mself\u001b[39m\u001b[38;5;241m.\u001b[39mcommand_executor\u001b[38;5;241m.\u001b[39mexecute(driver_command, params)\n\u001b[0;32m    345\u001b[0m \u001b[38;5;28;01mif\u001b[39;00m response:\n\u001b[1;32m--> 346\u001b[0m     \u001b[38;5;28;43mself\u001b[39;49m\u001b[38;5;241;43m.\u001b[39;49m\u001b[43merror_handler\u001b[49m\u001b[38;5;241;43m.\u001b[39;49m\u001b[43mcheck_response\u001b[49m\u001b[43m(\u001b[49m\u001b[43mresponse\u001b[49m\u001b[43m)\u001b[49m\n\u001b[0;32m    347\u001b[0m     response[\u001b[38;5;124m\"\u001b[39m\u001b[38;5;124mvalue\u001b[39m\u001b[38;5;124m\"\u001b[39m] \u001b[38;5;241m=\u001b[39m \u001b[38;5;28mself\u001b[39m\u001b[38;5;241m.\u001b[39m_unwrap_value(response\u001b[38;5;241m.\u001b[39mget(\u001b[38;5;124m\"\u001b[39m\u001b[38;5;124mvalue\u001b[39m\u001b[38;5;124m\"\u001b[39m, \u001b[38;5;28;01mNone\u001b[39;00m))\n\u001b[0;32m    348\u001b[0m     \u001b[38;5;28;01mreturn\u001b[39;00m response\n",
      "File \u001b[1;32m~\\AppData\\Local\\Programs\\Python\\Python311\\Lib\\site-packages\\selenium\\webdriver\\remote\\errorhandler.py:245\u001b[0m, in \u001b[0;36mErrorHandler.check_response\u001b[1;34m(self, response)\u001b[0m\n\u001b[0;32m    243\u001b[0m         alert_text \u001b[38;5;241m=\u001b[39m value[\u001b[38;5;124m\"\u001b[39m\u001b[38;5;124malert\u001b[39m\u001b[38;5;124m\"\u001b[39m]\u001b[38;5;241m.\u001b[39mget(\u001b[38;5;124m\"\u001b[39m\u001b[38;5;124mtext\u001b[39m\u001b[38;5;124m\"\u001b[39m)\n\u001b[0;32m    244\u001b[0m     \u001b[38;5;28;01mraise\u001b[39;00m exception_class(message, screen, stacktrace, alert_text)  \u001b[38;5;66;03m# type: ignore[call-arg]  # mypy is not smart enough here\u001b[39;00m\n\u001b[1;32m--> 245\u001b[0m \u001b[38;5;28;01mraise\u001b[39;00m exception_class(message, screen, stacktrace)\n",
      "\u001b[1;31mElementNotInteractableException\u001b[0m: Message: element not interactable\n  (Session info: chrome=114.0.5735.134)\nStacktrace:\nBacktrace:\n\tGetHandleVerifier [0x00BFA813+48355]\n\t(No symbol) [0x00B8C4B1]\n\t(No symbol) [0x00A95220]\n\t(No symbol) [0x00AC1846]\n\t(No symbol) [0x00AB9F5C]\n\t(No symbol) [0x00ADA73C]\n\t(No symbol) [0x00AB9A36]\n\t(No symbol) [0x00ADAA94]\n\t(No symbol) [0x00AEC922]\n\t(No symbol) [0x00ADA536]\n\t(No symbol) [0x00AB82DC]\n\t(No symbol) [0x00AB93DD]\n\tGetHandleVerifier [0x00E5AABD+2539405]\n\tGetHandleVerifier [0x00E9A78F+2800735]\n\tGetHandleVerifier [0x00E9456C+2775612]\n\tGetHandleVerifier [0x00C851E0+616112]\n\t(No symbol) [0x00B95F8C]\n\t(No symbol) [0x00B92328]\n\t(No symbol) [0x00B9240B]\n\t(No symbol) [0x00B84FF7]\n\tBaseThreadInitThunk [0x767C7D59+25]\n\tRtlInitializeExceptionChain [0x77D8B74B+107]\n\tRtlClearBits [0x77D8B6CF+191]\n"
     ]
    }
   ],
   "source": [
    "# url = 'https://www.bankofengland.co.uk/news/publications'\n",
    "# page = requests.get(url)\n",
    "# soup = BeautifulSoup(page.text, \"html.parser\")\n",
    "# blocks = soup.find_all('div', class_='col3')           # Each block contains date, title, and link\n",
    "# print(blocks)\n",
    "\n",
    "driver = webdriver.Chrome()\n",
    "driver.get('https://www.bankofengland.co.uk/news/publications')\n",
    "driver.implicitly_wait(5)\n",
    "\n",
    "# Accept recommended cookies\n",
    "button = driver.find_element(By.XPATH,\"//*[text()='Proceed with necessary cookies only']\")\n",
    "button.click()\n",
    "driver.implicitly_wait(5)\n",
    "\n",
    "html = driver.page_source\n",
    "soup = BeautifulSoup(html, \"html.parser\")\n",
    "blocks = soup.find_all('div', class_='col3')           # Each block contains date, title, and link\n",
    "\n",
    "titles = list()\n",
    "links = list()\n",
    "dates = list()\n",
    "\n",
    "monthDict = {\t1:'Janauary',\n",
    "\t\t2:'February',\n",
    "\t\t3:'March',\n",
    "\t\t4:'April',\n",
    "\t\t5:'May',\n",
    "\t\t6:'June',\n",
    "\t\t7:'July',\n",
    "\t\t8:'August',\n",
    "\t\t9:'September',\n",
    "\t\t10:'October',\n",
    "\t\t11:'November',\n",
    "\t\t12:'December'\t\t}\n",
    "\n",
    "month = monthDict[datetime.now().month]\n",
    "year = str(datetime.now().year)\n",
    "\n",
    "preLink = 'https://www.bankofengland.co.uk'\n",
    "\n",
    "for a in blocks:\n",
    "    date = a.find('time',class_='release-date')\n",
    "    if date is not None and date.text.find(month) != -1 and date.text.find(year) != -1:\n",
    "        print(date.text)\n",
    "        dates.append(date.text)                                                     # Narrowed dates to current month and year\n",
    "        \n",
    "    title = a.find('h3',class_='grid-view exclude-navigation')\n",
    "    if title is not None:\n",
    "        titles.append(title.text)                                                  # All titles\n",
    "        \n",
    "    link = a.find('a',href=True,class_='release release-pubs')\n",
    "    if link is not None:\n",
    "        newLink = preLink + link['href']\n",
    "        links.append(newLink)                                                       # All links\n",
    "\n",
    "driver.quit()\n",
    "        \n",
    "links = links[0:len(dates)]\n",
    "titles = titles[0:len(dates)]\n",
    "\n",
    "d = {'Title': titles,'Link':links,'Date':dates}\n",
    "df = pd.DataFrame(data=d)\n",
    "df.to_csv(r'C:\\Users\\65936\\\\OneDrive\\Desktop\\MAS\\\\BOE.csv')"
   ]
  },
  {
   "cell_type": "code",
   "execution_count": 50,
   "id": "77a4353f",
   "metadata": {},
   "outputs": [
    {
     "name": "stdout",
     "output_type": "stream",
     "text": [
      "['\\n                            16 June 2023\\n                        ', '\\n                            16 June 2023\\n                        ', '\\n                            15 June 2023\\n                        ', '\\n                            08 June 2023\\n                        ', '\\n                            02 June 2023\\n                        ', '\\n                            02 June 2023\\n                        ', '\\n                            01 June 2023\\n                        ', '\\n                            01 June 2023\\n                        ']\n"
     ]
    }
   ],
   "source": [
    "print(dates)\n"
   ]
  },
  {
   "cell_type": "code",
   "execution_count": null,
   "id": "595dad46",
   "metadata": {},
   "outputs": [],
   "source": []
  }
 ],
 "metadata": {
  "kernelspec": {
   "display_name": "Python 3 (ipykernel)",
   "language": "python",
   "name": "python3"
  },
  "language_info": {
   "codemirror_mode": {
    "name": "ipython",
    "version": 3
   },
   "file_extension": ".py",
   "mimetype": "text/x-python",
   "name": "python",
   "nbconvert_exporter": "python",
   "pygments_lexer": "ipython3",
   "version": "3.11.3"
  }
 },
 "nbformat": 4,
 "nbformat_minor": 5
}
