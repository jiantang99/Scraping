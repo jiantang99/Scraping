{
 "cells": [
  {
   "cell_type": "code",
   "execution_count": 9,
   "id": "02ee98ef",
   "metadata": {},
   "outputs": [],
   "source": [
    "from bs4 import BeautifulSoup\n",
    "import urllib.request,sys,time\n",
    "import requests\n",
    "import pandas as pd\n",
    "import re\n",
    "import math\n",
    "import os\n",
    "from selenium import webdriver\n",
    "from selenium.webdriver.common.by import By\n",
    "from selenium.webdriver.firefox.options import Options\n",
    "from datetime import datetime"
   ]
  },
  {
   "cell_type": "code",
   "execution_count": 49,
   "id": "42919b1d",
   "metadata": {},
   "outputs": [
    {
     "name": "stdout",
     "output_type": "stream",
     "text": [
      "\n",
      "                            16 June 2023\n",
      "                        \n",
      "\n",
      "                            16 June 2023\n",
      "                        \n",
      "\n",
      "                            15 June 2023\n",
      "                        \n",
      "\n",
      "                            08 June 2023\n",
      "                        \n",
      "\n",
      "                            02 June 2023\n",
      "                        \n",
      "\n",
      "                            02 June 2023\n",
      "                        \n",
      "\n",
      "                            01 June 2023\n",
      "                        \n",
      "\n",
      "                            01 June 2023\n",
      "                        \n"
     ]
    }
   ],
   "source": [
    "# url = 'https://www.bankofengland.co.uk/news/publications'\n",
    "# page = requests.get(url)\n",
    "# soup = BeautifulSoup(page.text, \"html.parser\")\n",
    "# blocks = soup.find_all('div', class_='col3')           # Each block contains date, title, and link\n",
    "# print(blocks)\n",
    "\n",
    "driver = webdriver.Chrome()\n",
    "driver.get('https://www.bankofengland.co.uk/news/publications')\n",
    "\n",
    "# Accept recommended cookies\n",
    "button = driver.find_element(By.XPATH,\"//*[text()='Accept recommended cookies']\")\n",
    "button.click()\n",
    "driver.implicitly_wait(5)\n",
    "\n",
    "html = driver.page_source\n",
    "soup = BeautifulSoup(html, \"html.parser\")\n",
    "blocks = soup.find_all('div', class_='col3')           # Each block contains date, title, and link\n",
    "\n",
    "titles = list()\n",
    "links = list()\n",
    "dates = list()\n",
    "\n",
    "monthDict = {\t1:'Janauary',\n",
    "\t\t2:'February',\n",
    "\t\t3:'March',\n",
    "\t\t4:'April',\n",
    "\t\t5:'May',\n",
    "\t\t6:'June',\n",
    "\t\t7:'July',\n",
    "\t\t8:'August',\n",
    "\t\t9:'September',\n",
    "\t\t10:'October',\n",
    "\t\t11:'November',\n",
    "\t\t12:'December'\t\t}\n",
    "\n",
    "month = monthDict[datetime.now().month]\n",
    "year = str(datetime.now().year)\n",
    "\n",
    "preLink = 'https://www.bankofengland.co.uk'\n",
    "\n",
    "for a in blocks:\n",
    "    date = a.find('time',class_='release-date')\n",
    "    if date is not None and date.text.find(month) != -1 and date.text.find(year) != -1:\n",
    "        print(date.text)\n",
    "        dates.append(date.text)                                                     # Narrowed dates to current month and year\n",
    "        \n",
    "    title = a.find('h3',class_='grid-view exclude-navigation')\n",
    "    if title is not None:\n",
    "        titles.append(title.text)                                                  # All titles\n",
    "        \n",
    "    link = a.find('a',href=True,class_='release release-pubs')\n",
    "    if link is not None:\n",
    "        newLink = preLink + link['href']\n",
    "        links.append(newLink)                                                       # All links\n",
    "\n",
    "driver.quit()\n",
    "        \n",
    "links = links[0:len(dates)]\n",
    "titles = titles[0:len(dates)]\n",
    "\n",
    "d = {'Title': titles,'Link':links,'Date':dates}\n",
    "df = pd.DataFrame(data=d)\n",
    "df.to_csv(r'C:\\Users\\65936\\\\OneDrive\\Desktop\\MAS\\\\BOE.csv')"
   ]
  },
  {
   "cell_type": "code",
   "execution_count": 50,
   "id": "77a4353f",
   "metadata": {},
   "outputs": [
    {
     "name": "stdout",
     "output_type": "stream",
     "text": [
      "['\\n                            16 June 2023\\n                        ', '\\n                            16 June 2023\\n                        ', '\\n                            15 June 2023\\n                        ', '\\n                            08 June 2023\\n                        ', '\\n                            02 June 2023\\n                        ', '\\n                            02 June 2023\\n                        ', '\\n                            01 June 2023\\n                        ', '\\n                            01 June 2023\\n                        ']\n"
     ]
    }
   ],
   "source": [
    "print(dates)\n"
   ]
  },
  {
   "cell_type": "code",
   "execution_count": null,
   "id": "595dad46",
   "metadata": {},
   "outputs": [],
   "source": []
  }
 ],
 "metadata": {
  "kernelspec": {
   "display_name": "Python 3 (ipykernel)",
   "language": "python",
   "name": "python3"
  },
  "language_info": {
   "codemirror_mode": {
    "name": "ipython",
    "version": 3
   },
   "file_extension": ".py",
   "mimetype": "text/x-python",
   "name": "python",
   "nbconvert_exporter": "python",
   "pygments_lexer": "ipython3",
   "version": "3.11.3"
  }
 },
 "nbformat": 4,
 "nbformat_minor": 5
}
