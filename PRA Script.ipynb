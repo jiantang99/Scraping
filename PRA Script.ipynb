{
 "cells": [
  {
   "cell_type": "code",
   "execution_count": 1,
   "id": "6813e151",
   "metadata": {},
   "outputs": [],
   "source": [
    "import requests\n",
    "from bs4 import BeautifulSoup\n",
    "from datetime import datetime\n",
    "import pandas as pd \n",
    "import os\n",
    "from selenium import webdriver\n",
    "from selenium.webdriver.common.by import By\n",
    "from selenium.webdriver.support.wait import WebDriverWait\n",
    "from selenium.webdriver.support import expected_conditions as EC"
   ]
  },
  {
   "cell_type": "code",
   "execution_count": 23,
   "id": "cef4ed40",
   "metadata": {},
   "outputs": [
    {
     "name": "stdout",
     "output_type": "stream",
     "text": [
      "title\n",
      "<h3 class=\"list exclude-navigation\" itemprop=\"name\">Prudential Regulation Authority Annual Report 2022/23</h3>\n",
      "link\n",
      "/prudential-regulation/publication/2023/july/pra-annual-report-2022-23\n",
      "date\n",
      "<time class=\"release-date\" datetime=\"2023-07-06\" itemprop=\"datePublished\">\n",
      "                            06 July 2023\n",
      "                        </time>\n",
      "title\n",
      "<h3 class=\"list exclude-navigation\" itemprop=\"name\">The Prescribed Persons (Reports on Disclosures of Information) Regulations 2017 - Annual Report 2022/23</h3>\n",
      "link\n",
      "/prudential-regulation/publication/2023/july/prescribed-persons-regulations-2017-annual-report-2022-23\n",
      "date\n",
      "<time class=\"release-date\" datetime=\"2023-07-06\" itemprop=\"datePublished\">\n",
      "                            06 July 2023\n",
      "                        </time>\n",
      "title\n",
      "<h3 class=\"list exclude-navigation\" itemprop=\"name\">Enforcement Decision Making Committee: 2022/23 Report</h3>\n",
      "link\n",
      "/prudential-regulation/publication/2023/july/enforcement-decision-making-committee-2022-23-report\n",
      "date\n",
      "<time class=\"release-date\" datetime=\"2023-07-06\" itemprop=\"datePublished\">\n",
      "                            06 July 2023\n",
      "                        </time>\n",
      "title\n",
      "<h3 class=\"list exclude-navigation\" itemprop=\"name\">PRA Regulatory Digest - June 2023</h3>\n",
      "link\n",
      "/prudential-regulation/regulatory-digest/2023/june\n",
      "date\n",
      "<time class=\"release-date\" datetime=\"2023-07-03\" itemprop=\"datePublished\">\n",
      "                            03 July 2023\n",
      "                        </time>\n"
     ]
    }
   ],
   "source": [
    "url = \"https://www.bankofengland.co.uk/news/prudential-regulation\"\n",
    "\n",
    "# Set up the Selenium driver\n",
    "driver = webdriver.Chrome()\n",
    "\n",
    "driver.get(url)\n",
    "driver.implicitly_wait(5)\n",
    "button = driver.find_element(By.XPATH,\"//button[contains(@class,'cookie__button btn btn-default btn-neutral')]\")\n",
    "button.click()\n",
    "driver.implicitly_wait(5)\n",
    "\n",
    "# Get HTML code\n",
    "html = driver.page_source\n",
    "\n",
    "soup = BeautifulSoup(html, 'html.parser')\n",
    "div_element = soup.find_all('div', class_='col3')\n",
    "driver.close()\n",
    "for a in div_element:\n",
    "    if a.find('time',class_='release-date') is not None:\n",
    "        if 'July' in a.find('time',class_='release-date').text and '2023' in a.find('time',class_='release-date').text:\n",
    "            print(a.find('h3',class_='list exclude-navigation'))\n",
    "            print(a.find('a',href=True)['href'])\n",
    "            print(a.find('time',class_='release-date'))\n",
    "\n"
   ]
  },
  {
   "cell_type": "code",
   "execution_count": null,
   "id": "fc2ba99e",
   "metadata": {},
   "outputs": [],
   "source": []
  }
 ],
 "metadata": {
  "kernelspec": {
   "display_name": "Python 3 (ipykernel)",
   "language": "python",
   "name": "python3"
  },
  "language_info": {
   "codemirror_mode": {
    "name": "ipython",
    "version": 3
   },
   "file_extension": ".py",
   "mimetype": "text/x-python",
   "name": "python",
   "nbconvert_exporter": "python",
   "pygments_lexer": "ipython3",
   "version": "3.11.3"
  }
 },
 "nbformat": 4,
 "nbformat_minor": 5
}
