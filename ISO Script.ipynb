{
 "cells": [
  {
   "cell_type": "code",
   "execution_count": 1,
   "id": "f16be081",
   "metadata": {},
   "outputs": [],
   "source": [
    "from bs4 import BeautifulSoup\n",
    "import urllib.request,sys,time\n",
    "import requests\n",
    "import pandas as pd\n",
    "import re\n",
    "import math\n",
    "import os\n",
    "from selenium import webdriver\n",
    "from selenium.webdriver.common.by import By\n",
    "from datetime import datetime"
   ]
  },
  {
   "cell_type": "code",
   "execution_count": 17,
   "id": "f24e098b",
   "metadata": {},
   "outputs": [],
   "source": [
    "url = 'https://www.iso.org/events.html'\n",
    "page = requests.get(url)\n",
    "soup = BeautifulSoup(page.text, \"html.parser\")\n",
    "blocks = soup.find_all('div', class_='hentry')\n",
    "\n",
    "dates_list = list()\n",
    "links_list = list()\n",
    "titles_list = list()\n",
    "\n",
    "for a in blocks:\n",
    "    date = a.find('span',class_='opacity-75 small').text\n",
    "    if 'June' in date and '2023' in date:\n",
    "        dates_list.append(date)\n",
    "    titles_list.append(a.find('a',href=True).text)\n",
    "    links_list.append(a.find('a',href=True)['href'])\n",
    "\n",
    "for a in links_list[0, len(dates_list)]:\n",
    "    links.append(a)\n",
    "for b in titles_list[0, len(dates_list)]:\n",
    "    titles.append(a)\n",
    "for c in dates_list:\n",
    "    dates.append(c)"
   ]
  },
  {
   "cell_type": "code",
   "execution_count": 21,
   "id": "039a6b77",
   "metadata": {},
   "outputs": [
    {
     "name": "stdout",
     "output_type": "stream",
     "text": [
      "2\n"
     ]
    }
   ],
   "source": [
    "print(len(dates_list))"
   ]
  },
  {
   "cell_type": "code",
   "execution_count": null,
   "id": "726560c2",
   "metadata": {},
   "outputs": [],
   "source": []
  }
 ],
 "metadata": {
  "kernelspec": {
   "display_name": "Python 3 (ipykernel)",
   "language": "python",
   "name": "python3"
  },
  "language_info": {
   "codemirror_mode": {
    "name": "ipython",
    "version": 3
   },
   "file_extension": ".py",
   "mimetype": "text/x-python",
   "name": "python",
   "nbconvert_exporter": "python",
   "pygments_lexer": "ipython3",
   "version": "3.11.3"
  }
 },
 "nbformat": 4,
 "nbformat_minor": 5
}
