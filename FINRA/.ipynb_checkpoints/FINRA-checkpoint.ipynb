{
 "cells": [
  {
   "cell_type": "code",
   "execution_count": 1,
   "id": "2a8e9e1e",
   "metadata": {},
   "outputs": [],
   "source": [
    "import pandas as pd\n",
    "import requests\n",
    "from bs4 import BeautifulSoup as soup\n",
    "from datetime import datetime\n",
    "import os"
   ]
  },
  {
   "cell_type": "code",
   "execution_count": 4,
   "id": "617f13ef",
   "metadata": {
    "scrolled": true
   },
   "outputs": [],
   "source": [
    "base = \"https://www.finra.org\"\n",
    "url = 'https://www.finra.org/rules-guidance/notices'\n",
    "response = requests.get(url)\n",
    "soup = soup(response.content, 'html.parser')\n",
    "\n",
    "target_blank_links = soup.find_all('a', target='_blank')\n",
    "href_values = [link['href'] for link in target_blank_links]\n",
    "\n",
    "datetime_elements = soup.find_all(class_='datetime')\n",
    "datetime_values = [element.get_text() for element in datetime_elements]\n",
    "\n",
    "\n",
    "td_elements = soup.find_all(\"td\", class_=\"views-field views-field-field-notice-title-tx\")\n",
    "\n",
    "\n",
    "# Get the current date and time\n",
    "current_datetime = datetime.now()\n",
    "current_month = current_datetime.strftime('%B')\n",
    "\n",
    "container = dict()\n",
    "title_list = list()\n",
    "\n",
    "#Add into dictionary\n",
    "for href, dt in zip(href_values, datetime_values):\n",
    "  if current_month in dt:\n",
    "    string = base + href\n",
    "    container[string] = dt\n",
    "    \n",
    "    \n",
    "    \n",
    "for td in td_elements:\n",
    "    div = td.find(\"div\")\n",
    "    if div is not None:\n",
    "        content = div.get_text(strip=True)\n",
    "        title_list.append(content)\n",
    "        \n",
    "title_list = title_list[:len(container.values())]\n",
    "\n",
    "df = pd.DataFrame( { \"Organisation\" : [\"FINRA\" for i in container.values()],\n",
    "                    \"Title\" : title_list,\n",
    "                    \"Date\" : container.values(),\n",
    "                  \"Link\" : container.keys() })\n",
    "\n",
    "current = os.getcwd().replace(\"\\\\\", \"/\")\n",
    "file_path = \"/Downloads/\"\n",
    "# Save to Downloads Folder\n",
    "save_string = current + file_path + \"FINRA_updates.xlsx\"\n",
    "df.to_excel(save_string, index = False)"
   ]
  },
  {
   "cell_type": "code",
   "execution_count": 4,
   "id": "b1c68858",
   "metadata": {},
   "outputs": [
    {
     "ename": "AttributeError",
     "evalue": "ResultSet object has no attribute 'find_all'. You're probably treating a list of elements like a single element. Did you call find_all() when you meant to call find()?",
     "output_type": "error",
     "traceback": [
      "\u001b[1;31m---------------------------------------------------------------------------\u001b[0m",
      "\u001b[1;31mAttributeError\u001b[0m                            Traceback (most recent call last)",
      "Cell \u001b[1;32mIn[4], line 6\u001b[0m\n\u001b[0;32m      3\u001b[0m response \u001b[38;5;241m=\u001b[39m requests\u001b[38;5;241m.\u001b[39mget(url)\n\u001b[0;32m      4\u001b[0m soup \u001b[38;5;241m=\u001b[39m soup(response\u001b[38;5;241m.\u001b[39mcontent, \u001b[38;5;124m'\u001b[39m\u001b[38;5;124mhtml.parser\u001b[39m\u001b[38;5;124m'\u001b[39m)\n\u001b[1;32m----> 6\u001b[0m target_blank_links \u001b[38;5;241m=\u001b[39m \u001b[43msoup\u001b[49m\u001b[38;5;241;43m.\u001b[39;49m\u001b[43mfind_all\u001b[49m(\u001b[38;5;124m'\u001b[39m\u001b[38;5;124ma\u001b[39m\u001b[38;5;124m'\u001b[39m, target\u001b[38;5;241m=\u001b[39m\u001b[38;5;124m'\u001b[39m\u001b[38;5;124m_blank\u001b[39m\u001b[38;5;124m'\u001b[39m)\n\u001b[0;32m      7\u001b[0m href_values \u001b[38;5;241m=\u001b[39m [link[\u001b[38;5;124m'\u001b[39m\u001b[38;5;124mhref\u001b[39m\u001b[38;5;124m'\u001b[39m] \u001b[38;5;28;01mfor\u001b[39;00m link \u001b[38;5;129;01min\u001b[39;00m target_blank_links]\n\u001b[0;32m      9\u001b[0m datetime_elements \u001b[38;5;241m=\u001b[39m soup\u001b[38;5;241m.\u001b[39mfind_all(class_\u001b[38;5;241m=\u001b[39m\u001b[38;5;124m'\u001b[39m\u001b[38;5;124mdatetime\u001b[39m\u001b[38;5;124m'\u001b[39m)\n",
      "File \u001b[1;32m~\\AppData\\Local\\Programs\\Python\\Python311\\Lib\\site-packages\\bs4\\element.py:2428\u001b[0m, in \u001b[0;36mResultSet.__getattr__\u001b[1;34m(self, key)\u001b[0m\n\u001b[0;32m   2426\u001b[0m \u001b[38;5;28;01mdef\u001b[39;00m \u001b[38;5;21m__getattr__\u001b[39m(\u001b[38;5;28mself\u001b[39m, key):\n\u001b[0;32m   2427\u001b[0m \u001b[38;5;250m    \u001b[39m\u001b[38;5;124;03m\"\"\"Raise a helpful exception to explain a common code fix.\"\"\"\u001b[39;00m\n\u001b[1;32m-> 2428\u001b[0m     \u001b[38;5;28;01mraise\u001b[39;00m \u001b[38;5;167;01mAttributeError\u001b[39;00m(\n\u001b[0;32m   2429\u001b[0m         \u001b[38;5;124m\"\u001b[39m\u001b[38;5;124mResultSet object has no attribute \u001b[39m\u001b[38;5;124m'\u001b[39m\u001b[38;5;132;01m%s\u001b[39;00m\u001b[38;5;124m'\u001b[39m\u001b[38;5;124m. You\u001b[39m\u001b[38;5;124m'\u001b[39m\u001b[38;5;124mre probably treating a list of elements like a single element. Did you call find_all() when you meant to call find()?\u001b[39m\u001b[38;5;124m\"\u001b[39m \u001b[38;5;241m%\u001b[39m key\n\u001b[0;32m   2430\u001b[0m     )\n",
      "\u001b[1;31mAttributeError\u001b[0m: ResultSet object has no attribute 'find_all'. You're probably treating a list of elements like a single element. Did you call find_all() when you meant to call find()?"
     ]
    }
   ],
   "source": [
    "base = \"https://www.finra.org\"\n",
    "url = 'https://www.finra.org/rules-guidance/notices'\n",
    "response = requests.get(url)\n",
    "soup = soup(response.content, 'html.parser')\n",
    "\n",
    "target_blank_links = soup.find_all('a', target='_blank')\n",
    "href_values = [link['href'] for link in target_blank_links]\n",
    "\n",
    "datetime_elements = soup.find_all(class_='datetime')\n",
    "datetime_values = [element.get_text() for element in datetime_elements]\n",
    "\n",
    "\n",
    "td_elements = soup.find_all(\"td\", class_=\"views-field views-field-field-notice-title-tx\")\n",
    "\n",
    "\n",
    "# Get the current date and time\n",
    "current_datetime = datetime.now()\n",
    "current_month = current_datetime.strftime('%B')\n",
    "\n",
    "container = dict()\n",
    "title_list = list()\n",
    "\n",
    "#Add into dictionary\n",
    "for href, dt in zip(href_values, datetime_values):\n",
    "  if current_month in dt:\n",
    "    string = base + href\n",
    "    container[string] = dt\n",
    "    \n",
    "    \n",
    "    \n",
    "for td in td_elements:\n",
    "    div = td.find(\"div\")\n",
    "    if div is not None:\n",
    "        content = div.get_text(strip=True)\n",
    "        title_list.append(content)\n",
    "        \n",
    "title_list = title_list[:len(container.values())]\n",
    "\n",
    "df = pd.DataFrame( {\"Title\" : title_list,\n",
    "                    \"Date\" : container.values(),\n",
    "                  \"Link\" : container.keys() })\n",
    "\n",
    "current = os.getcwd().replace(\"\\\\\", \"/\")\n",
    "file_path = \"/Downloads/\"\n",
    "# Save to Downloads Folder\n",
    "save_string = current + file_path + \"FINRA_updates.xlsx\"\n",
    "df.to_excel(save_string, index = False)"
   ]
  },
  {
   "cell_type": "code",
   "execution_count": null,
   "id": "1c67ceb5",
   "metadata": {},
   "outputs": [],
   "source": []
  }
 ],
 "metadata": {
  "kernelspec": {
   "display_name": "Python 3 (ipykernel)",
   "language": "python",
   "name": "python3"
  },
  "language_info": {
   "codemirror_mode": {
    "name": "ipython",
    "version": 3
   },
   "file_extension": ".py",
   "mimetype": "text/x-python",
   "name": "python",
   "nbconvert_exporter": "python",
   "pygments_lexer": "ipython3",
   "version": "3.11.3"
  }
 },
 "nbformat": 4,
 "nbformat_minor": 5
}
