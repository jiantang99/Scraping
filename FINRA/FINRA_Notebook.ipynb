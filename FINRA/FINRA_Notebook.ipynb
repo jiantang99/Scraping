{
 "cells": [
  {
   "cell_type": "code",
   "execution_count": 16,
   "id": "2f47516e",
   "metadata": {},
   "outputs": [],
   "source": [
    "import pandas as pd\n",
    "import requests\n",
    "from bs4 import BeautifulSoup as soup\n",
    "from datetime import datetime\n",
    "import os"
   ]
  },
  {
   "cell_type": "code",
   "execution_count": 17,
   "id": "18a4b0c8",
   "metadata": {},
   "outputs": [],
   "source": [
    "import requests\n",
    "from bs4 import BeautifulSoup\n",
    "\n",
    "base = \"https://www.finra.org\"\n",
    "url = 'https://www.finra.org/rules-guidance/notices'\n",
    "response = requests.get(url)\n",
    "soup = BeautifulSoup(response.content, 'html.parser')\n",
    "\n",
    "target_blank_links = soup.find_all('a', target='_blank')\n",
    "href_values = [link['href'] for link in target_blank_links]\n",
    "\n",
    "datetime_elements = soup.find_all(class_='datetime')\n",
    "datetime_values = [element.get_text() for element in datetime_elements]\n",
    "\n",
    "\n",
    "# Get the current date and time\n",
    "current_datetime = datetime.now()\n",
    "current_month = current_datetime.strftime('%B')\n",
    "\n",
    "container = dict()\n",
    "\n",
    "\n",
    "#Add into dictionary\n",
    "for href, dt in zip(href_values, datetime_values):\n",
    "  if current_month in dt:\n",
    "    string = base + href\n",
    "    container[string] = dt\n",
    "\n",
    "df = pd.DataFrame( { \"Date\" : container.values(),\n",
    "                  \"Link\" : container.keys() })\n",
    "\n",
    "current = os.getcwd().replace(\"\\\\\", \"/\")\n",
    "file_path = \"/Downloads/\"\n",
    "# Save to Downloads Folder\n",
    "save_string = current + file_path + \"FINRA_updates.xlsx\"\n",
    "df.to_excel(save_string, index = False)"
   ]
  },
  {
   "cell_type": "code",
   "execution_count": null,
   "id": "4bce0295",
   "metadata": {},
   "outputs": [],
   "source": []
  }
 ],
 "metadata": {
  "kernelspec": {
   "display_name": "Python 3",
   "language": "python",
   "name": "python3"
  },
  "language_info": {
   "codemirror_mode": {
    "name": "ipython",
    "version": 3
   },
   "file_extension": ".py",
   "mimetype": "text/x-python",
   "name": "python",
   "nbconvert_exporter": "python",
   "pygments_lexer": "ipython3",
   "version": "3.8.8"
  }
 },
 "nbformat": 4,
 "nbformat_minor": 5
}
