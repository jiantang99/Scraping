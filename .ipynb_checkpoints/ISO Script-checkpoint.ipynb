{
 "cells": [
  {
   "cell_type": "code",
   "execution_count": 57,
   "id": "f16be081",
   "metadata": {},
   "outputs": [],
   "source": [
    "from bs4 import BeautifulSoup\n",
    "import urllib.request,sys,time\n",
    "import requests\n",
    "import pandas as pd\n",
    "import re\n",
    "import math\n",
    "import os\n",
    "from selenium import webdriver\n",
    "from selenium.webdriver.common.by import By\n",
    "from datetime import datetime"
   ]
  },
  {
   "cell_type": "code",
   "execution_count": 54,
   "id": "f24e098b",
   "metadata": {},
   "outputs": [],
   "source": [
    "dates = list()\n",
    "links = list()\n",
    "titles = list()\n",
    "\n",
    "url = 'https://www.iso.org/events_archive/x/'\n",
    "page = requests.get(url)\n",
    "soup = BeautifulSoup(page.text, \"html.parser\")\n",
    "blocks = soup.find_all('div', class_='media clearfix square')\n",
    "\n",
    "dates_list = list()\n",
    "links_list = list()\n",
    "titles_list = list()\n",
    "\n",
    "baseLink = 'https://www.iso.org'\n",
    "\n",
    "for a in blocks:\n",
    "    date = a.find('time',class_='updated').text\n",
    "    if 'June' in date and '2023' in date:\n",
    "        t = (a.find('span', class_='entry-name').text)\n",
    "        dates_list.append(date)\n",
    "        titles_list.append(t)\n",
    "        if 'https' not in a.find('div',class_='h5').find('a',href=True)['href']:\n",
    "            fullLink = baseLink + a.find('div',class_='h5').find('a',href=True)['href']\n",
    "            links_list.append(fullLink)\n",
    "        else:\n",
    "            links_list.append(a.find('a',href=True)['href'])\n",
    "\n",
    "for a in links_list[0:len(dates_list)]:\n",
    "    links.append(a)\n",
    "for b in titles_list[0:len(dates_list)]:\n",
    "    titles.append(b)\n",
    "for c in dates_list:\n",
    "    dates.append(c)\n"
   ]
  },
  {
   "cell_type": "code",
   "execution_count": 43,
   "id": "039a6b77",
   "metadata": {},
   "outputs": [
    {
     "name": "stdout",
     "output_type": "stream",
     "text": [
      "Webinar on Semantics and Semantic Interoperability – Electronic Business Memorandum of Understanding (eB-MoU)\n",
      "Portfolio to meet market needs\n",
      "International standards in support of cities' and local authorities’ development agenda\n",
      "The imperative for international standards to achieve global biodiversity targets\n",
      "Standards and the triple planetary crisis\n",
      "Transforming the climate actions of global economies through standards: From commitment to impact\n",
      "Enabling transformative innovation through standards\n",
      "Presentación de las directrices ISO para el cero neto\n",
      "The role of standards in facing the negative impacts of climate change and achieving sustainability\n",
      "Harmonizing Net Zero criteria - the Net Zero Guidelines for business\n"
     ]
    }
   ],
   "source": [
    "for a in blocks:\n",
    "#    print(a.find('div',class_='h5').find('a',href=True)['href'])\n",
    "    print(a.find('span', class_='entry-name').text)\n",
    "#     print(a.find('time',class_='updated').text)"
   ]
  },
  {
   "cell_type": "code",
   "execution_count": 56,
   "id": "726560c2",
   "metadata": {},
   "outputs": [
    {
     "name": "stdout",
     "output_type": "stream",
     "text": [
      "['https://unece.org/webinar-on-semantics', 'https://www.iso.org/contents/event/2022/customer-matters-workshops.html']\n"
     ]
    }
   ],
   "source": [
    "print(links)"
   ]
  },
  {
   "cell_type": "code",
   "execution_count": null,
   "id": "328ba786",
   "metadata": {},
   "outputs": [],
   "source": []
  }
 ],
 "metadata": {
  "kernelspec": {
   "display_name": "Python 3 (ipykernel)",
   "language": "python",
   "name": "python3"
  },
  "language_info": {
   "codemirror_mode": {
    "name": "ipython",
    "version": 3
   },
   "file_extension": ".py",
   "mimetype": "text/x-python",
   "name": "python",
   "nbconvert_exporter": "python",
   "pygments_lexer": "ipython3",
   "version": "3.11.3"
  }
 },
 "nbformat": 4,
 "nbformat_minor": 5
}
