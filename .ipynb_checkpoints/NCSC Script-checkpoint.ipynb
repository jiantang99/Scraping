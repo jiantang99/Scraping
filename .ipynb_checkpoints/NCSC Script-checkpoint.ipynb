{
 "cells": [
  {
   "cell_type": "code",
   "execution_count": 2,
   "id": "ae7414fa",
   "metadata": {},
   "outputs": [],
   "source": [
    "import requests\n",
    "from bs4 import BeautifulSoup\n",
    "from datetime import datetime\n",
    "import pandas as pd \n",
    "import os\n",
    "from selenium import webdriver\n",
    "from selenium.webdriver.common.by import By\n",
    "from selenium.webdriver.support.wait import WebDriverWait\n",
    "from selenium.webdriver.support import expected_conditions "
   ]
  },
  {
   "cell_type": "code",
   "execution_count": 4,
   "id": "b62d63b8",
   "metadata": {},
   "outputs": [],
   "source": [
    "driver = webdriver.Chrome()\n",
    "\n",
    "# Open the URL\n",
    "url = \"https://www.ncsc.gov.uk/section/keep-up-to-date/reports-advisories\"\n",
    "driver.get(url)\n",
    "driver.implicitly_wait(5)\n",
    "button = driver.find_element(By.XPATH,\"//*[text()='Accept optional cookies']\")\n",
    "button.click()\n",
    "driver.implicitly_wait(5)\n",
    "\n",
    "# Get HTML code\n",
    "html = driver.page_source\n",
    "\n",
    "soup = BeautifulSoup(html, 'html.parser')\n",
    "div_element = soup.find_all('div', class_='pcf-article-content-item')\n",
    "driver.close()\n",
    "\n",
    "for a in div_element:\n",
    "    if a.find('li',class_='meta__item') is not None:\n",
    "        if 'June' in a.find('li',class_='meta__item').text and '2023' in a.find('li',class_='meta__item'):\n",
    "            print('title')\n",
    "            print(a.find('h4', class_='pcf-results-item__title').text)\n",
    "            print('link')\n",
    "            print(a.find('a',href=True)['href'])\n",
    "            print('date')\n",
    "            print(a.find('li',class_='meta__item'))\n",
    "\n"
   ]
  },
  {
   "cell_type": "code",
   "execution_count": 11,
   "id": "8305dd5f",
   "metadata": {},
   "outputs": [
    {
     "name": "stdout",
     "output_type": "stream",
     "text": [
      "title\n",
      "Cyber Threat Report: UK Legal Sector\n",
      "link\n",
      "/report/cyber-threat-report-uk-legal-sector\n",
      "date\n",
      "<class 'bs4.element.Tag'>\n",
      "title\n",
      "NCSC and international partners shine a light on Lockbit ransomware threat\n",
      "link\n",
      "/news/ncsc-international-partners-lockbit-ransomware-threat\n",
      "date\n",
      "<class 'bs4.element.Tag'>\n",
      "title\n",
      "MOVEit vulnerability and data extortion incident\n",
      "link\n",
      "/information/moveit-vulnerability\n",
      "date\n",
      "<class 'NoneType'>\n",
      "title\n",
      "NCSC joins partners to issue warning about China state-sponsored cyber activity targeting CNI networks\n",
      "link\n",
      "/news/ncsc-joins-partners-to-issue-warning-about-chinese-cyber-activity-targeting-cni\n",
      "date\n",
      "<class 'bs4.element.Tag'>\n",
      "title\n",
      "UK and allies expose Snake malware threat from Russian cyber actors\n",
      "link\n",
      "/news/uk-and-allies-expose-snake-malware-threat-from-russian-cyber-actors\n",
      "date\n",
      "<class 'bs4.element.Tag'>\n"
     ]
    }
   ],
   "source": [
    "for a in div_element:\n",
    "    print('title')\n",
    "    print(a.find('h4', class_='pcf-results-item__title').text)\n",
    "    print('link')\n",
    "    print(a.find('a',href=True)['href'])\n",
    "    print('date')\n",
    "    print(a.find('li',class_='meta__item'))"
   ]
  },
  {
   "cell_type": "code",
   "execution_count": null,
   "id": "d0ed4a8a",
   "metadata": {},
   "outputs": [],
   "source": []
  }
 ],
 "metadata": {
  "kernelspec": {
   "display_name": "Python 3 (ipykernel)",
   "language": "python",
   "name": "python3"
  },
  "language_info": {
   "codemirror_mode": {
    "name": "ipython",
    "version": 3
   },
   "file_extension": ".py",
   "mimetype": "text/x-python",
   "name": "python",
   "nbconvert_exporter": "python",
   "pygments_lexer": "ipython3",
   "version": "3.11.3"
  }
 },
 "nbformat": 4,
 "nbformat_minor": 5
}
