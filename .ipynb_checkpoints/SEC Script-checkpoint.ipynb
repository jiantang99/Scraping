{
 "cells": [
  {
   "cell_type": "code",
   "execution_count": 1,
   "id": "0c0d86a5",
   "metadata": {},
   "outputs": [],
   "source": [
    "from bs4 import BeautifulSoup\n",
    "import urllib.request,sys,time\n",
    "import requests\n",
    "import pandas as pd\n",
    "import re\n",
    "import math\n",
    "import os\n",
    "from selenium import webdriver\n",
    "from selenium.webdriver.common.by import By\n",
    "from datetime import datetime"
   ]
  },
  {
   "cell_type": "code",
   "execution_count": 9,
   "id": "8359dc6f",
   "metadata": {},
   "outputs": [],
   "source": [
    "url = 'https://www.sec.gov/news/speeches-statements'\n",
    "try:\n",
    "    page = requests.get(url)\n",
    "except:\n",
    "    print(\"Something is wrong with SEC link.\")\n",
    "soup = BeautifulSoup(page.text, \"html.parser\")\n",
    "# blocks = soup.find_all('tr',class_=re.compile(r'speeches-list-page-row\\s+(odd|even)'))\n",
    "blocks = soup.find('tbody')\n",
    "\n",
    "links_list = list()\n",
    "dates_list = list()\n",
    "titles_list = list()\n",
    "\n",
    "dates = blocks.find_all('time',class_='datetime')\n",
    "for a in dates:\n",
    "    aa = a.text.strip()\n",
    "    if 'June' in aa and '2023' in aa:\n",
    "        dates_list.append(aa)\n",
    "\n",
    "titlesAndLinks = blocks.find_all('a',href=True)\n",
    "for b in titlesAndLinks:\n",
    "    titles_list.append(b.text.strip())\n",
    "    links_list.append(b['href'])\n",
    "\n",
    "for i in titles_list[0:len(dates_list)]:\n",
    "    titles.append(i)\n",
    "for j in links_list[0:len(links_list)]:\n",
    "    links.append(j)\n",
    "for q in dates_list:\n",
    "    dates.append(q)"
   ]
  },
  {
   "cell_type": "code",
   "execution_count": 11,
   "id": "086925a8",
   "metadata": {},
   "outputs": [
    {
     "name": "stdout",
     "output_type": "stream",
     "text": [
      "['June 29, 2023', 'June 22, 2023', 'June 22, 2023', 'June 22, 2023', 'June 21, 2023', 'June 21, 2023', 'June 16, 2023', 'June 14, 2023', 'June 14, 2023', 'June 14, 2023', 'June 13, 2023', 'June 9, 2023', 'June 8, 2023', 'June 7, 2023', 'June 7, 2023', 'June 7, 2023', 'June 7, 2023', 'June 7, 2023', 'June 7, 2023', 'June 7, 2023', 'June 7, 2023', 'June 7, 2023', 'June 7, 2023', 'June 7, 2023', 'June 2, 2023']\n"
     ]
    }
   ],
   "source": [
    "print(dates_list)"
   ]
  },
  {
   "cell_type": "code",
   "execution_count": null,
   "id": "c8b71d6e",
   "metadata": {},
   "outputs": [],
   "source": []
  }
 ],
 "metadata": {
  "kernelspec": {
   "display_name": "Python 3 (ipykernel)",
   "language": "python",
   "name": "python3"
  },
  "language_info": {
   "codemirror_mode": {
    "name": "ipython",
    "version": 3
   },
   "file_extension": ".py",
   "mimetype": "text/x-python",
   "name": "python",
   "nbconvert_exporter": "python",
   "pygments_lexer": "ipython3",
   "version": "3.11.3"
  }
 },
 "nbformat": 4,
 "nbformat_minor": 5
}
