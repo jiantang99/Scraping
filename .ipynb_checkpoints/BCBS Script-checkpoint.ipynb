{
 "cells": [
  {
   "cell_type": "code",
   "execution_count": 16,
   "id": "c1019825",
   "metadata": {},
   "outputs": [],
   "source": [
    "from bs4 import BeautifulSoup\n",
    "import urllib.request,sys,time\n",
    "import requests\n",
    "import pandas as pd\n",
    "import re\n",
    "import math\n",
    "import os\n",
    "from selenium import webdriver\n",
    "from selenium.webdriver.common.by import By\n",
    "from datetime import datetime"
   ]
  },
  {
   "cell_type": "code",
   "execution_count": 50,
   "id": "ed09768a",
   "metadata": {},
   "outputs": [],
   "source": [
    "from selenium import webdriver\n",
    "\n",
    "url = 'https://www.bis.org/bcbs/publications.htm?m=2566'\n",
    "\n",
    "# Set up the Selenium webdriver (make sure you have the appropriate driver installed)\n",
    "driver = webdriver.Chrome()  # Use Chrome or any other supported browser driver\n",
    "\n",
    "# Open the webpage\n",
    "driver.get(url)\n",
    "\n",
    "# Retrieve the complete HTML content\n",
    "html_content = driver.page_source\n",
    "\n",
    "monthDict = {\t1:'Janauary',\n",
    "\t\t2:'February',\n",
    "\t\t3:'March',\n",
    "\t\t4:'April',\n",
    "\t\t5:'May',\n",
    "\t\t6:'June',\n",
    "\t\t7:'July',\n",
    "\t\t8:'August',\n",
    "\t\t9:'September',\n",
    "\t\t10:'October',\n",
    "\t\t11:'November',\n",
    "\t\t12:'December'\t\t}\n",
    "\n",
    "month = monthDict[datetime.now().month]\n",
    "year = str(datetime.now().year)\n",
    "\n",
    "li = list()\n",
    "titles = list()\n",
    "links = list()\n",
    "dates = list()\n",
    "\n",
    "# Now you can parse the HTML content using BeautifulSoup\n",
    "soup = BeautifulSoup(html_content, \"html.parser\")\n",
    "aa = soup.find('tbody').find_all('tr')\n",
    "\n",
    "# To get publications in 2023\n",
    "for a in aa:    \n",
    "    if year in a.text:\n",
    "            li.append(a)\n",
    "\n",
    "preLink = 'https://www.bis.org'\n",
    "            \n",
    "for b in li:\n",
    "    titles.append(b.find('div',class_='title').text)\n",
    "    newLink = preLink + b.find('a',class_='dark',href=True)['href']\n",
    "    links.append(newLink)\n",
    "    dates.append(b.find('td',class_='item_date').text)\n",
    "\n",
    "# Close the webdriver\n",
    "driver.quit()\n",
    "\n",
    "d = {'Title':titles,'Link':links,'Date':dates}\n",
    "df = pd.DataFrame(data=d)\n",
    "df.to_csv(r'C:\\Users\\65936\\\\OneDrive\\Desktop\\MAS\\\\BCBS.csv')"
   ]
  },
  {
   "cell_type": "code",
   "execution_count": null,
   "id": "93249c16",
   "metadata": {},
   "outputs": [],
   "source": []
  }
 ],
 "metadata": {
  "kernelspec": {
   "display_name": "Python 3 (ipykernel)",
   "language": "python",
   "name": "python3"
  },
  "language_info": {
   "codemirror_mode": {
    "name": "ipython",
    "version": 3
   },
   "file_extension": ".py",
   "mimetype": "text/x-python",
   "name": "python",
   "nbconvert_exporter": "python",
   "pygments_lexer": "ipython3",
   "version": "3.11.3"
  }
 },
 "nbformat": 4,
 "nbformat_minor": 5
}
