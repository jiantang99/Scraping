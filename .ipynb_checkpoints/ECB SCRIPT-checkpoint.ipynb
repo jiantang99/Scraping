{
 "cells": [
  {
   "cell_type": "code",
   "execution_count": 1,
   "id": "dbaaf506",
   "metadata": {},
   "outputs": [],
   "source": [
    "from bs4 import BeautifulSoup\n",
    "import urllib.request,sys,time\n",
    "import requests\n",
    "import pandas as pd\n",
    "import re\n",
    "import math\n",
    "import os"
   ]
  },
  {
   "cell_type": "markdown",
   "id": "dda03087",
   "metadata": {},
   "source": [
    "#### Go to page, reject cookies, enter search, click on 'Past year', get total results, loop through total pages"
   ]
  },
  {
   "cell_type": "code",
   "execution_count": null,
   "id": "ce38b630",
   "metadata": {},
   "outputs": [],
   "source": [
    "# Getting total results\n",
    "url = 'https://www.ecb.europa.eu/home/html/index.en.html#/search/cloud%20advisory/1'\n",
    "try:\n",
    "     # this might throw an exception if something goes wrong.\n",
    "     page = requests.get(url) \n",
    " # this describes what to do if an exception is thrown \n",
    "except Exception as e:    \n",
    "\n",
    "    # get the exception information\n",
    "    error_type, error_obj, error_info = sys.exc_info()      \n",
    "\n",
    "    #print the link that cause the problem\n",
    "    print ('ERROR FOR LINK:',url)\n",
    "\n",
    "    #print error info and line that threw the exception                          \n",
    "    print (error_type, 'Line:', error_info.tb_lineno)\n",
    "        \n",
    "soup = BeautifulSoup(page.text, \"html.parser\")\n",
    "titles = soup.find_all('h4',attrs={'class':'title'})"
   ]
  },
  {
   "cell_type": "code",
   "execution_count": 29,
   "id": "7d9b988b",
   "metadata": {},
   "outputs": [
    {
     "name": "stdout",
     "output_type": "stream",
     "text": [
      "<div id=\"addsearch-api-results\"></div>\n"
     ]
    }
   ],
   "source": [
    "from selenium import webdriver\n",
    "from selenium.webdriver.common.by import By\n",
    "\n",
    "# Here Chrome  will be used\n",
    "driver = webdriver.Chrome()\n",
    "url = 'https://www.ecb.europa.eu/home/html/index.en.html#/search/cloud%20advisory/1'\n",
    "driver.get(url)\n",
    "driver.implicitly_wait(5)\n",
    "\n",
    "# Reject cookies\n",
    "button = driver.find_element(By.XPATH,\"//*[text()='I do not accept the use of cookies']\")\n",
    "button.click()\n",
    "\n",
    "# Click Search\n",
    "# button = driver.find_element(By.ID,\"searchButton\")\n",
    "# button.click()\n",
    "\n",
    "# Entering into search bar\n",
    "e = driver.find_element(By.ID,\"searchInput\")\n",
    "e.send_keys('cloud advisory')\n",
    "driver.implicitly_wait(3)\n",
    "\n",
    "button = driver.find_element(By.XPATH,\"//*[text()='PAST YEAR ']\")\n",
    "button.click()\n",
    "driver.implicitly_wait(3)\n",
    "\n",
    "try:\n",
    "     # this might throw an exception if something goes wrong.\n",
    "     page = requests.get(url) \n",
    " # this describes what to do if an exception is thrown \n",
    "except Exception as e:    \n",
    "\n",
    "    # get the exception information\n",
    "    error_type, error_obj, error_info = sys.exc_info()      \n",
    "\n",
    "    #print the link that cause the problem\n",
    "    print ('ERROR FOR LINK:',url)\n",
    "\n",
    "    #print error info and line that threw the exception                          \n",
    "    print (error_type, 'Line:', error_info.tb_lineno)\n",
    "    \n",
    "soup = BeautifulSoup(page.text, \"html.parser\")\n",
    "titlesAndLinks = soup.find('div',{'id':'addsearch-api-results'})\n",
    "titles = titlesAndLinks.find_all('h2')\n",
    "print(titlesAndLinks)"
   ]
  },
  {
   "cell_type": "code",
   "execution_count": null,
   "id": "dfaa5f62",
   "metadata": {},
   "outputs": [],
   "source": []
  }
 ],
 "metadata": {
  "kernelspec": {
   "display_name": "Python 3 (ipykernel)",
   "language": "python",
   "name": "python3"
  },
  "language_info": {
   "codemirror_mode": {
    "name": "ipython",
    "version": 3
   },
   "file_extension": ".py",
   "mimetype": "text/x-python",
   "name": "python",
   "nbconvert_exporter": "python",
   "pygments_lexer": "ipython3",
   "version": "3.11.3"
  }
 },
 "nbformat": 4,
 "nbformat_minor": 5
}
