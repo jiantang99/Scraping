{
 "cells": [
  {
   "cell_type": "code",
   "execution_count": 2,
   "id": "c6c515aa",
   "metadata": {},
   "outputs": [],
   "source": [
    "from bs4 import BeautifulSoup\n",
    "import urllib.request,sys,time\n",
    "import requests\n",
    "import pandas as pd\n",
    "import re\n",
    "import math\n",
    "import os\n",
    "from selenium import webdriver\n",
    "from selenium.webdriver.common.by import By\n",
    "from datetime import datetime"
   ]
  },
  {
   "cell_type": "code",
   "execution_count": 25,
   "id": "2c66a6fb",
   "metadata": {},
   "outputs": [
    {
     "name": "stdout",
     "output_type": "stream",
     "text": [
      "[<h3 class=\"media-heading\">\n",
      "<span class=\"media-date pull-right\">27 April 2023</span>\n",
      "<a href=\"https://www.fsb.org/2023/04/fsb-statement-to-encourage-final-preparations-for-the-usd-libor-transition/\">FSB Statement to encourage final preparations for the USD LIBOR transition</a>\n",
      "</h3>, <h3 class=\"media-heading\">\n",
      "<span class=\"media-date pull-right\">20 April 2023</span>\n",
      "<a href=\"https://www.fsb.org/2023/04/climate-related-financial-risk-factors-in-compensation-frameworks/\">Climate-related Financial Risk Factors in Compensation Frameworks</a>\n",
      "</h3>, <h3 class=\"media-heading\">\n",
      "<span class=\"media-date pull-right\">13 April 2023</span>\n",
      "<a href=\"https://www.fsb.org/2023/04/recommendations-to-achieve-greater-convergence-in-cyber-incident-reporting-final-report/\">Recommendations to Achieve Greater Convergence in Cyber Incident Reporting: Final Report</a>\n",
      "</h3>, <h3 class=\"media-heading\">\n",
      "<span class=\"media-date pull-right\">13 April 2023</span>\n",
      "<a href=\"https://www.fsb.org/2023/04/format-for-incident-reporting-exchange-fire-a-possible-way-forward/\">Format for Incident Reporting Exchange (FIRE): A possible way forward</a>\n",
      "</h3>, <h3 class=\"media-heading\">\n",
      "<span class=\"media-date pull-right\">13 April 2023</span>\n",
      "<a href=\"https://www.fsb.org/2023/04/cyber-lexicon-updated-in-2023/\">Cyber Lexicon: Updated in 2023</a>\n",
      "</h3>, <h3 class=\"media-heading\">\n",
      "<span class=\"media-date pull-right\">13 April 2023</span>\n",
      "<a href=\"https://www.fsb.org/2023/04/achieving-greater-convergence-in-cyber-incident-reporting-overview-of-responses-to-consultative-document/\">Achieving Greater Convergence in Cyber Incident Reporting: Overview of responses to consultative document</a>\n",
      "</h3>, <h3 class=\"media-heading\">\n",
      "<span class=\"media-date pull-right\">12 April 2023</span>\n",
      "<a href=\"https://www.fsb.org/2023/04/fsb-chairs-letter-to-g20-finance-ministers-and-central-bank-governors-april-2023/\">FSB Chair’s letter to G20 Finance Ministers and Central Bank Governors: April 2023</a>\n",
      "</h3>]\n"
     ]
    }
   ],
   "source": [
    "url = 'https://www.fsb.org/publications/'\n",
    "\n",
    "page = requests.get(url)\n",
    "soup = BeautifulSoup(page.text, \"html.parser\")\n",
    "results = soup.find_all('h3', class_='media-heading')\n",
    "\n",
    "titles = list()\n",
    "links= list()\n",
    "dates = list()\n",
    "li = list()\n",
    "\n",
    "monthDict = {\t1:'Janauary',\n",
    "\t\t2:'February',\n",
    "\t\t3:'March',\n",
    "\t\t4:'April',\n",
    "\t\t5:'May',\n",
    "\t\t6:'June',\n",
    "\t\t7:'July',\n",
    "\t\t8:'August',\n",
    "\t\t9:'September',\n",
    "\t\t10:'October',\n",
    "\t\t11:'November',\n",
    "\t\t12:'December'\t\t}\n",
    "\n",
    "month = monthDict[datetime.now().month]\n",
    "year = str(datetime.now().year)\n",
    "\n",
    "for a in results:\n",
    "    if month in a.find('span').text:\n",
    "        li.append(a)\n",
    "print(li)\n",
    "\n",
    "for b in li:\n",
    "    titles.append(b.find('a').text)\n",
    "    links.append(b.find('a',href=True)['href'])\n",
    "    dates.append(b.find('span', class_='media-date pull-right').text)\n",
    "    \n",
    "d = {'Title': titles, 'Link': links, \"Date\": dates}\n",
    "df = pd.DataFrame(data=d)\n",
    "df.to_csv(r'C:\\Users\\65936\\\\OneDrive\\Desktop\\MAS\\\\FSB.csv')"
   ]
  },
  {
   "cell_type": "code",
   "execution_count": 24,
   "id": "0553bd14",
   "metadata": {},
   "outputs": [
    {
     "name": "stdout",
     "output_type": "stream",
     "text": [
      "['27 April 2023', '20 April 2023', '13 April 2023', '13 April 2023', '13 April 2023', '13 April 2023', '12 April 2023']\n"
     ]
    }
   ],
   "source": [
    "print(dates)"
   ]
  },
  {
   "cell_type": "code",
   "execution_count": null,
   "id": "1f04d502",
   "metadata": {},
   "outputs": [],
   "source": []
  }
 ],
 "metadata": {
  "kernelspec": {
   "display_name": "Python 3 (ipykernel)",
   "language": "python",
   "name": "python3"
  },
  "language_info": {
   "codemirror_mode": {
    "name": "ipython",
    "version": 3
   },
   "file_extension": ".py",
   "mimetype": "text/x-python",
   "name": "python",
   "nbconvert_exporter": "python",
   "pygments_lexer": "ipython3",
   "version": "3.11.3"
  }
 },
 "nbformat": 4,
 "nbformat_minor": 5
}
