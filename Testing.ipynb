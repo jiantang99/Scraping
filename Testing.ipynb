{
 "cells": [
  {
   "cell_type": "code",
   "execution_count": 26,
   "id": "7fcd696c",
   "metadata": {},
   "outputs": [],
   "source": [
    "from bs4 import BeautifulSoup\n",
    "import urllib.request,sys,time\n",
    "import requests\n",
    "import pandas as pd\n",
    "import re\n",
    "import math\n",
    "import os\n",
    "from selenium import webdriver\n",
    "from selenium.webdriver.common.by import By\n",
    "from selenium.webdriver.firefox.options import Options\n",
    "from datetime import datetime"
   ]
  },
  {
   "cell_type": "code",
   "execution_count": 40,
   "id": "d925d48f",
   "metadata": {},
   "outputs": [
    {
     "name": "stdout",
     "output_type": "stream",
     "text": [
      "['https://www.bankofengland.co.uk/working-paper/2023/the-market-for-inflation-risk', 'https://www.bankofengland.co.uk/markets/market-intelligence/survey-results/2023/market-participants-survey-results-june-2023', 'https://www.bankofengland.co.uk/weekly-report/2023/21-june-2023', 'https://www.bankofengland.co.uk/agents-summary/2023/2023-q2', 'https://www.bankofengland.co.uk/agents-summary/2023/2023-q2/latest-results-from-the-decision-maker-panel-survey-2023-q2', 'https://www.bankofengland.co.uk/working-paper/2023/the-transmission-of-macroprudential-policy-in-the-tails-evidence-from-a-narrative-approach', 'https://www.bankofengland.co.uk/inflation-attitudes-survey/2023/may-2023', 'https://www.bankofengland.co.uk/weekly-report/2023/14-june-2023', 'https://www.bankofengland.co.uk/weekly-report/2023/7-june-2023', 'https://www.bankofengland.co.uk/working-paper/2023/the-potential-impact-of-broader-central-clearing-on-dealer-balance-sheet-capacity', 'https://www.bankofengland.co.uk/working-paper/2023/flexible-bayesian-midas-time-variation-group-shrinkage-and-sparsity', 'https://www.bankofengland.co.uk/weekly-report/2023/31-may-2023', 'https://www.bankofengland.co.uk/decision-maker-panel/2023/may-2023']\n",
      "https://www.bankofengland.co.uk/working-paper/2023/the-market-for-inflation-risk\n",
      "https://www.bankofengland.co.uk/markets/market-intelligence/survey-results/2023/market-participants-survey-results-june-2023\n",
      "https://www.bankofengland.co.uk/weekly-report/2023/21-june-2023\n",
      "https://www.bankofengland.co.uk/agents-summary/2023/2023-q2\n",
      "https://www.bankofengland.co.uk/agents-summary/2023/2023-q2/latest-results-from-the-decision-maker-panel-survey-2023-q2\n",
      "https://www.bankofengland.co.uk/working-paper/2023/the-transmission-of-macroprudential-policy-in-the-tails-evidence-from-a-narrative-approach\n",
      "https://www.bankofengland.co.uk/inflation-attitudes-survey/2023/may-2023\n",
      "https://www.bankofengland.co.uk/weekly-report/2023/14-june-2023\n",
      "https://www.bankofengland.co.uk/weekly-report/2023/7-june-2023\n",
      "https://www.bankofengland.co.uk/working-paper/2023/the-potential-impact-of-broader-central-clearing-on-dealer-balance-sheet-capacity\n",
      "https://www.bankofengland.co.uk/working-paper/2023/flexible-bayesian-midas-time-variation-group-shrinkage-and-sparsity\n",
      "https://www.bankofengland.co.uk/weekly-report/2023/31-may-2023\n",
      "https://www.bankofengland.co.uk/decision-maker-panel/2023/may-2023\n"
     ]
    }
   ],
   "source": [
    "dates= list()\n",
    "links=list()\n",
    "titles=list()\n",
    "\n",
    "\n",
    "driver = webdriver.Chrome()\n",
    "driver.get('https://www.bankofengland.co.uk/news/publications')\n",
    "driver.implicitly_wait(5)\n",
    "\n",
    "# Accept recommended cookies\n",
    "button = driver.find_element(By.XPATH,\"//*[text()='Proceed with necessary cookies only']\")\n",
    "button.click()\n",
    "driver.implicitly_wait(5)\n",
    "\n",
    "html = driver.page_source\n",
    "soup = BeautifulSoup(html, \"html.parser\")\n",
    "blocks = soup.find_all('div', class_='col3')           # Each block contains date, title, and link\n",
    "\n",
    "titles_list = list()\n",
    "links_list = list()\n",
    "dates_list = list()\n",
    "\n",
    "dates.append('BOE')\n",
    "links.append('BOE')\n",
    "titles.append('BOE')\n",
    "\n",
    "preLink = 'https://www.bankofengland.co.uk'\n",
    "\n",
    "for a in blocks:\n",
    "    date = a.find('time',class_='release-date')\n",
    "    if date is not None and date.text.find(month) != -1 and date.text.find(year) != -1:\n",
    "        dates_list.append(date.text)                                                # Need to get length of dates to slice titles and year\n",
    "        dates.append(date.text)                                                     # Dates with current month and year\n",
    "\n",
    "    title = a.find('h3',class_='grid-view exclude-navigation')\n",
    "    if title is not None:\n",
    "        titles_list.append(title.text)                                                  # All titles\n",
    "\n",
    "    link = a.find('a',href=True,class_='release release-pubs')\n",
    "    if link is not None:\n",
    "        newLink = preLink + link['href']\n",
    "        links_list.append(newLink)                                                       # All links\n",
    "\n",
    "driver.quit()\n",
    "\n",
    "links_list = links_list[0:len(dates)-1]\n",
    "titles_list = titles_list[0:len(dates)-1]\n",
    "\n",
    "print(links_list)\n",
    "\n",
    "for a in links_list:\n",
    "    print(a)\n",
    "    links.append(a)\n",
    "for b in titles_list:\n",
    "    titles.append(b)"
   ]
  },
  {
   "cell_type": "code",
   "execution_count": 39,
   "id": "6f9fc71b",
   "metadata": {},
   "outputs": [
    {
     "name": "stdout",
     "output_type": "stream",
     "text": [
      "14\n",
      "14\n",
      "14\n"
     ]
    }
   ],
   "source": [
    "print(len(dates))\n",
    "print(len(titles))\n",
    "print(len(links))"
   ]
  },
  {
   "cell_type": "code",
   "execution_count": 37,
   "id": "e96afdc0",
   "metadata": {},
   "outputs": [],
   "source": [
    "d = {'date': dates, 'title': titles,'links':links}\n",
    "df = pd.DataFrame(data=d)\n",
    "df.to_csv(r'C:\\Users\\65936\\\\OneDrive\\Desktop\\MAS\\\\BOE.csv')"
   ]
  },
  {
   "cell_type": "code",
   "execution_count": null,
   "id": "2450cf95",
   "metadata": {},
   "outputs": [],
   "source": []
  }
 ],
 "metadata": {
  "kernelspec": {
   "display_name": "Python 3 (ipykernel)",
   "language": "python",
   "name": "python3"
  },
  "language_info": {
   "codemirror_mode": {
    "name": "ipython",
    "version": 3
   },
   "file_extension": ".py",
   "mimetype": "text/x-python",
   "name": "python",
   "nbconvert_exporter": "python",
   "pygments_lexer": "ipython3",
   "version": "3.11.3"
  }
 },
 "nbformat": 4,
 "nbformat_minor": 5
}
