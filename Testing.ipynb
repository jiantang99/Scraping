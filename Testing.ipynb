{
 "cells": [
  {
   "cell_type": "code",
   "execution_count": 8,
   "id": "9ddace00",
   "metadata": {},
   "outputs": [],
   "source": [
    "dict = {(1, '1 June 2023','Title','link'),(2, '10 June 2023','Title1','link1'),(3, '2 April 2020','Title2','link2')}"
   ]
  },
  {
   "cell_type": "code",
   "execution_count": 11,
   "id": "565b0ea4",
   "metadata": {},
   "outputs": [
    {
     "name": "stdout",
     "output_type": "stream",
     "text": [
      "2 April 2020\n",
      "1 June 2023\n",
      "10 June 2023\n",
      "{1: {'link', '1 June 2023', 'Title'}, 2: {'Title1', 'link1', '10 June 2023'}}\n"
     ]
    }
   ],
   "source": [
    "newDict={}\n",
    "for index, date, title, link in dict:\n",
    "    print(date)\n",
    "    if date.find('2023') != -1:\n",
    "        newDict[index] = { date, title, link}\n",
    "        \n",
    "print(newDict)"
   ]
  },
  {
   "cell_type": "code",
   "execution_count": 12,
   "id": "79f777bf",
   "metadata": {},
   "outputs": [
    {
     "name": "stdout",
     "output_type": "stream",
     "text": [
      "True\n"
     ]
    }
   ],
   "source": [
    "print('/rss' == '/rss')"
   ]
  },
  {
   "cell_type": "code",
   "execution_count": null,
   "id": "b026bacf",
   "metadata": {},
   "outputs": [],
   "source": []
  }
 ],
 "metadata": {
  "kernelspec": {
   "display_name": "Python 3 (ipykernel)",
   "language": "python",
   "name": "python3"
  },
  "language_info": {
   "codemirror_mode": {
    "name": "ipython",
    "version": 3
   },
   "file_extension": ".py",
   "mimetype": "text/x-python",
   "name": "python",
   "nbconvert_exporter": "python",
   "pygments_lexer": "ipython3",
   "version": "3.11.3"
  }
 },
 "nbformat": 4,
 "nbformat_minor": 5
}
