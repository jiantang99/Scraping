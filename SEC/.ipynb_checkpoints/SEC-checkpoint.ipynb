{
 "cells": [
  {
   "cell_type": "code",
   "execution_count": 2,
   "id": "59e6646f",
   "metadata": {},
   "outputs": [],
   "source": [
    "import pandas as pd\n",
    "import requests\n",
    "from bs4 import BeautifulSoup as soup\n",
    "from datetime import datetime\n",
    "import os"
   ]
  },
  {
   "cell_type": "code",
   "execution_count": 3,
   "id": "a33bfbef",
   "metadata": {},
   "outputs": [],
   "source": [
    "href_list = list()\n",
    "date_list = list()\n",
    "\n",
    "url = 'https://www.sec.gov/news/speeches-statements'\n",
    "base = 'https://www.sec.gov'\n",
    "response = requests.get(url)\n",
    "soup = soup(response.content, 'html.parser')\n",
    "\n",
    "# Find the <body> element\n",
    "body = soup.find('tbody')\n",
    "\n",
    "\n",
    "# Find all the <a> elements within the <tbody> element and extract the href values\n",
    "href_values = [a['href'] for a in body.find_all('a', href=True)]\n",
    "\n",
    "# Find all the elements with class = datetime\n",
    "datetime_elements = soup.find_all(class_='datetime')\n",
    "datetime_values = [element.get_text() for element in datetime_elements]\n",
    "\n",
    "\n",
    "# Get the current date and time\n",
    "current_datetime = datetime.now()\n",
    "current_month = current_datetime.strftime('%B')\n",
    "current_year = str(current_datetime.year)\n",
    "\n",
    "# Append to List\n",
    "for href,dt in zip(href_values,datetime_values):\n",
    "  if \"/news\" in href and current_month in dt and current_year in dt:\n",
    "    link = base + href\n",
    "    href_list.append(link)\n",
    "    date_list.append(dt)\n",
    "\n",
    "\n",
    "df = pd.DataFrame( { \"Organisation\": [\"SEC\" for i in href_list],\n",
    "                    \"Date\" : date_list,\n",
    "                    \"Link\" : href_list })\n",
    "\n",
    "current = os.getcwd().replace(\"\\\\\", \"/\")\n",
    "file_path = \"/Downloads/\"\n",
    "# Save to Downloads Folder\n",
    "save_string = current + file_path + \"SEC_updates.xlsx\"\n",
    "df.to_excel(save_string, index = False)"
   ]
  },
  {
   "cell_type": "code",
   "execution_count": null,
   "id": "b100cdf4",
   "metadata": {},
   "outputs": [],
   "source": []
  }
 ],
 "metadata": {
  "kernelspec": {
   "display_name": "Python 3 (ipykernel)",
   "language": "python",
   "name": "python3"
  },
  "language_info": {
   "codemirror_mode": {
    "name": "ipython",
    "version": 3
   },
   "file_extension": ".py",
   "mimetype": "text/x-python",
   "name": "python",
   "nbconvert_exporter": "python",
   "pygments_lexer": "ipython3",
   "version": "3.11.3"
  }
 },
 "nbformat": 4,
 "nbformat_minor": 5
}
