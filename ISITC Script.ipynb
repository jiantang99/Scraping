{
 "cells": [
  {
   "cell_type": "code",
   "execution_count": 26,
   "id": "73c87988",
   "metadata": {},
   "outputs": [
    {
     "ename": "ModuleNotFoundError",
     "evalue": "No module named 'sleep'",
     "output_type": "error",
     "traceback": [
      "\u001b[1;31m---------------------------------------------------------------------------\u001b[0m",
      "\u001b[1;31mModuleNotFoundError\u001b[0m                       Traceback (most recent call last)",
      "Cell \u001b[1;32mIn[26], line 12\u001b[0m\n\u001b[0;32m     10\u001b[0m \u001b[38;5;28;01mfrom\u001b[39;00m \u001b[38;5;21;01mselenium\u001b[39;00m\u001b[38;5;21;01m.\u001b[39;00m\u001b[38;5;21;01mwebdriver\u001b[39;00m\u001b[38;5;21;01m.\u001b[39;00m\u001b[38;5;21;01mfirefox\u001b[39;00m\u001b[38;5;21;01m.\u001b[39;00m\u001b[38;5;21;01moptions\u001b[39;00m \u001b[38;5;28;01mimport\u001b[39;00m Options\n\u001b[0;32m     11\u001b[0m \u001b[38;5;28;01mfrom\u001b[39;00m \u001b[38;5;21;01mdatetime\u001b[39;00m \u001b[38;5;28;01mimport\u001b[39;00m datetime\n\u001b[1;32m---> 12\u001b[0m \u001b[38;5;28;01mimport\u001b[39;00m \u001b[38;5;21;01msleep\u001b[39;00m\n",
      "\u001b[1;31mModuleNotFoundError\u001b[0m: No module named 'sleep'"
     ]
    }
   ],
   "source": [
    "from bs4 import BeautifulSoup\n",
    "import urllib.request,sys,time\n",
    "import requests\n",
    "import pandas as pd\n",
    "import re\n",
    "import math\n",
    "import os\n",
    "from selenium import webdriver\n",
    "from selenium.webdriver.common.by import By\n",
    "from selenium.webdriver.firefox.options import Options\n",
    "from datetime import datetime"
   ]
  },
  {
   "cell_type": "code",
   "execution_count": 40,
   "id": "d771983a",
   "metadata": {},
   "outputs": [],
   "source": [
    "dates_list = list()\n",
    "links_list = list()\n",
    "titles_list = list()\n",
    "\n",
    "url = 'https://isitc.org/news/in-the-news/'\n",
    "headers = {'User-Agent': 'Mozilla/5.0 (Windows NT 10.0; WOW64) AppleWebKit/537.36 (KHTML, like Gecko) Chrome/114.0.0.0 Safari/537.36'}\n",
    "\n",
    "driver = webdriver.Chrome()\n",
    "driver.get('https://isitc.org/news/in-the-news/')\n",
    "\n",
    "driver.implicitly_wait(5)\n",
    "\n",
    "# Get HTML code\n",
    "html = driver.page_source\n",
    "\n",
    "soup = BeautifulSoup(html, 'html.parser')\n",
    "driver.close()\n",
    "\n",
    "blocks = soup.find_all('div', class_='isitc-news-item')\n",
    "baseLink = 'https://isitc.org'\n",
    "\n",
    "for a in blocks:\n",
    "    if 'June' in a.find('h4').text.strip() and '2023' in a.find('h4').text.strip(): \n",
    "        dates_list.append(a.find('h4').text.strip())\n",
    "        titles_list.append(a.find('h3').text.strip())\n",
    "        fullLink = baseLink + a.find('h3').find('a',href=True)['href']\n",
    "        links_list.append(fullLink)\n"
   ]
  },
  {
   "cell_type": "code",
   "execution_count": 42,
   "id": "48eddb2f",
   "metadata": {},
   "outputs": [
    {
     "name": "stdout",
     "output_type": "stream",
     "text": [
      "['ISITC Member Spotlight – Paul Preisser', 'WatersTechnology byline - Digital assets trade processing: The roadblocks and the road ahead']\n"
     ]
    }
   ],
   "source": [
    "print(titles_list)"
   ]
  },
  {
   "cell_type": "code",
   "execution_count": null,
   "id": "0f99daa7",
   "metadata": {},
   "outputs": [],
   "source": []
  }
 ],
 "metadata": {
  "kernelspec": {
   "display_name": "Python 3 (ipykernel)",
   "language": "python",
   "name": "python3"
  },
  "language_info": {
   "codemirror_mode": {
    "name": "ipython",
    "version": 3
   },
   "file_extension": ".py",
   "mimetype": "text/x-python",
   "name": "python",
   "nbconvert_exporter": "python",
   "pygments_lexer": "ipython3",
   "version": "3.11.3"
  }
 },
 "nbformat": 4,
 "nbformat_minor": 5
}
