{
 "cells": [
  {
   "cell_type": "code",
   "execution_count": 26,
   "id": "20dde00d",
   "metadata": {},
   "outputs": [],
   "source": [
    "import requests\n",
    "from bs4 import BeautifulSoup\n",
    "from datetime import datetime\n",
    "import pandas as pd \n",
    "import os\n",
    "\n",
    "url = \"https://www.enisa.europa.eu/news\"\n",
    "\n",
    "# Send a GET request to the website\n",
    "response = requests.get(url)\n",
    "\n",
    "# Create a BeautifulSoup object to parse the HTML content\n",
    "soup = BeautifulSoup(response.content, \"html.parser\")\n",
    "\n",
    "# Find all <a> elements with class=\"news-latest-link\"\n",
    "link_elements = soup.find_all(\"a\", class_=\"news-latest-link\")\n",
    "\n",
    "# Find all elements with class=\"news-latest-date\"\n",
    "date_elements = soup.find_all(class_=\"news-latest-date\")\n",
    "\n",
    "title_element = soup.find_all(class_ = \"news-latest-title\")\n",
    "\n",
    "\n",
    "href_list = list()\n",
    "date_list = list()\n",
    "title_list = list()\n",
    "current_datetime = datetime.now()\n",
    "current_month = current_datetime.strftime('%B')\n",
    "current_year = str(current_datetime.year)\n",
    "\n",
    "\n",
    "# Print the extracted links and dates\n",
    "for link, date, title in zip(link_elements, date_elements,title_element):\n",
    "    href = link.get(\"href\")\n",
    "    dt = date.text.strip()\n",
    "    t = title.text.strip()\n",
    "    if current_year in dt and current_month in dt:\n",
    "        href_list.append(href)\n",
    "        date_list.append(dt)\n",
    "        title_list.append(t)\n"
   ]
  },
  {
   "cell_type": "code",
   "execution_count": 29,
   "id": "68a897da",
   "metadata": {},
   "outputs": [],
   "source": [
    "df = pd.DataFrame({\"Organisation\": [\"ENISA\" for i in href_list],\n",
    "                   \"Title\" : title_list,\n",
    "                   \"Link\" : href_list,\n",
    "                  \"Date\": date_list})\n",
    "current = os.getcwd().replace(\"\\\\\", \"/\")\n",
    "file_path = \"/Downloads/\"\n",
    "# Save to Downloads Folder\n",
    "save_string = current + file_path + \"ENISA_updates.xlsx\"\n",
    "df.to_excel(save_string, index = False)"
   ]
  },
  {
   "cell_type": "code",
   "execution_count": 4,
   "id": "2e7aa8d1",
   "metadata": {},
   "outputs": [
    {
     "name": "stdout",
     "output_type": "stream",
     "text": [
      "July\n"
     ]
    },
    {
     "ename": "NameError",
     "evalue": "name 'dates' is not defined",
     "output_type": "error",
     "traceback": [
      "\u001b[1;31m---------------------------------------------------------------------------\u001b[0m",
      "\u001b[1;31mNameError\u001b[0m                                 Traceback (most recent call last)",
      "Cell \u001b[1;32mIn[4], line 43\u001b[0m\n\u001b[0;32m     40\u001b[0m         date_list\u001b[38;5;241m.\u001b[39mappend(dt)\n\u001b[0;32m     41\u001b[0m         title_list\u001b[38;5;241m.\u001b[39mappend(t)\n\u001b[1;32m---> 43\u001b[0m \u001b[43mdates\u001b[49m\u001b[38;5;241m.\u001b[39mappend(\u001b[38;5;124m'\u001b[39m\u001b[38;5;124mENISA\u001b[39m\u001b[38;5;124m'\u001b[39m)\n\u001b[0;32m     44\u001b[0m links\u001b[38;5;241m.\u001b[39mappend(\u001b[38;5;124m'\u001b[39m\u001b[38;5;124mENISA\u001b[39m\u001b[38;5;124m'\u001b[39m)\n\u001b[0;32m     45\u001b[0m titles\u001b[38;5;241m.\u001b[39mappend(\u001b[38;5;124m'\u001b[39m\u001b[38;5;124mENISA\u001b[39m\u001b[38;5;124m'\u001b[39m)\n",
      "\u001b[1;31mNameError\u001b[0m: name 'dates' is not defined"
     ]
    }
   ],
   "source": [
    "import requests\n",
    "from bs4 import BeautifulSoup\n",
    "from datetime import datetime\n",
    "import pandas as pd \n",
    "import os\n",
    "\n",
    "url = \"https://www.enisa.europa.eu/news\"\n",
    "\n",
    "# Send a GET request to the website\n",
    "response = requests.get(url)\n",
    "\n",
    "# Create a BeautifulSoup object to parse the HTML content\n",
    "soup = BeautifulSoup(response.content, \"html.parser\")\n",
    "\n",
    "# Find all <a> elements with class=\"news-latest-link\"\n",
    "link_elements = soup.find_all(\"a\", class_=\"news-latest-link\")\n",
    "\n",
    "# Find all elements with class=\"news-latest-date\"\n",
    "date_elements = soup.find_all(class_=\"news-latest-date\")\n",
    "\n",
    "title_element = soup.find_all(class_ = \"news-latest-title\")\n",
    "\n",
    "\n",
    "href_list = list()\n",
    "date_list = list()\n",
    "title_list = list()\n",
    "current_datetime = datetime.now()\n",
    "current_month = current_datetime.strftime('%B')\n",
    "current_year = str(current_datetime.year)\n",
    "\n",
    "# Print the extracted links and dates\n",
    "for link, date, title in zip(link_elements, date_elements,title_element):\n",
    "    href = link.get(\"href\")\n",
    "    dt = date.text.strip()\n",
    "    t = title.text.strip()\n",
    "    if current_year in dt and current_month in dt:\n",
    "        href_list.append(href)\n",
    "        date_list.append(dt)\n",
    "        title_list.append(t)\n",
    "\n",
    "dates.append('ENISA')\n",
    "links.append('ENISA')\n",
    "titles.append('ENISA')\n",
    "for a in title_list:\n",
    "    titles.append(a)\n",
    "for b in href_list:\n",
    "    links.append(b)\n",
    "for c in date_list:\n",
    "    dates.append(c)"
   ]
  },
  {
   "cell_type": "code",
   "execution_count": null,
   "id": "4628782f",
   "metadata": {},
   "outputs": [],
   "source": []
  }
 ],
 "metadata": {
  "kernelspec": {
   "display_name": "Python 3 (ipykernel)",
   "language": "python",
   "name": "python3"
  },
  "language_info": {
   "codemirror_mode": {
    "name": "ipython",
    "version": 3
   },
   "file_extension": ".py",
   "mimetype": "text/x-python",
   "name": "python",
   "nbconvert_exporter": "python",
   "pygments_lexer": "ipython3",
   "version": "3.11.3"
  }
 },
 "nbformat": 4,
 "nbformat_minor": 5
}
