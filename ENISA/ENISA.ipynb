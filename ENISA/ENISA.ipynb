{
 "cells": [
  {
   "cell_type": "code",
   "execution_count": 26,
   "id": "20dde00d",
   "metadata": {},
   "outputs": [],
   "source": [
    "import requests\n",
    "from bs4 import BeautifulSoup\n",
    "from datetime import datetime\n",
    "import pandas as pd \n",
    "import os\n",
    "\n",
    "url = \"https://www.enisa.europa.eu/news\"\n",
    "\n",
    "# Send a GET request to the website\n",
    "response = requests.get(url)\n",
    "\n",
    "# Create a BeautifulSoup object to parse the HTML content\n",
    "soup = BeautifulSoup(response.content, \"html.parser\")\n",
    "\n",
    "# Find all <a> elements with class=\"news-latest-link\"\n",
    "link_elements = soup.find_all(\"a\", class_=\"news-latest-link\")\n",
    "\n",
    "# Find all elements with class=\"news-latest-date\"\n",
    "date_elements = soup.find_all(class_=\"news-latest-date\")\n",
    "\n",
    "title_element = soup.find_all(class_ = \"news-latest-title\")\n",
    "\n",
    "\n",
    "href_list = list()\n",
    "date_list = list()\n",
    "title_list = list()\n",
    "current_datetime = datetime.now()\n",
    "current_month = current_datetime.strftime('%B')\n",
    "current_year = str(current_datetime.year)\n",
    "\n",
    "\n",
    "# Print the extracted links and dates\n",
    "for link, date, title in zip(link_elements, date_elements,title_element):\n",
    "    href = link.get(\"href\")\n",
    "    dt = date.text.strip()\n",
    "    t = title.text.strip()\n",
    "    if current_year in dt and current_month in dt:\n",
    "        href_list.append(href)\n",
    "        date_list.append(dt)\n",
    "        title_list.append(t)\n"
   ]
  },
  {
   "cell_type": "code",
   "execution_count": 29,
   "id": "68a897da",
   "metadata": {},
   "outputs": [],
   "source": [
    "df = pd.DataFrame({\"Organisation\": [\"ENISA\" for i in href_list],\n",
    "                   \"Title\" : title_list,\n",
    "                   \"Link\" : href_list,\n",
    "                  \"Date\": date_list})\n",
    "current = os.getcwd().replace(\"\\\\\", \"/\")\n",
    "file_path = \"/Downloads/\"\n",
    "# Save to Downloads Folder\n",
    "save_string = current + file_path + \"ENISA_updates.xlsx\"\n",
    "df.to_excel(save_string, index = False)"
   ]
  },
  {
   "cell_type": "code",
   "execution_count": null,
   "id": "2e7aa8d1",
   "metadata": {},
   "outputs": [],
   "source": []
  }
 ],
 "metadata": {
  "kernelspec": {
   "display_name": "Python 3",
   "language": "python",
   "name": "python3"
  },
  "language_info": {
   "codemirror_mode": {
    "name": "ipython",
    "version": 3
   },
   "file_extension": ".py",
   "mimetype": "text/x-python",
   "name": "python",
   "nbconvert_exporter": "python",
   "pygments_lexer": "ipython3",
   "version": "3.8.8"
  }
 },
 "nbformat": 4,
 "nbformat_minor": 5
}
